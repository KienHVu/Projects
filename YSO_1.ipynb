{
  "nbformat": 4,
  "nbformat_minor": 0,
  "metadata": {
    "colab": {
      "name": "YSO_1.ipynb",
      "version": "0.3.2",
      "provenance": [],
      "toc_visible": true,
      "include_colab_link": true
    },
    "kernelspec": {
      "name": "python3",
      "display_name": "Python 3"
    },
    "accelerator": "GPU"
  },
  "cells": [
    {
      "cell_type": "markdown",
      "metadata": {
        "id": "view-in-github",
        "colab_type": "text"
      },
      "source": [
        "<a href=\"https://colab.research.google.com/github/teamvictory1/Projects/blob/master/YSO_1.ipynb\" target=\"_parent\"><img src=\"https://colab.research.google.com/assets/colab-badge.svg\" alt=\"Open In Colab\"/></a>"
      ]
    },
    {
      "metadata": {
        "id": "0FVZHbOBPWkK",
        "colab_type": "text"
      },
      "cell_type": "markdown",
      "source": [
        "# Work on the project of customer analytic for YSO challenge\n"
      ]
    },
    {
      "metadata": {
        "id": "09yj3brhg0Et",
        "colab_type": "text"
      },
      "cell_type": "markdown",
      "source": [
        "This notebook will be regularly updated throughout the duration of the project. In order to run this notebook, click on the Google Colab link.\n",
        "\n",
        "The data is extracted from the Job Recommendation Challenge on Kaggle. To use this python notebook and kaggle dataset, it is essential to register for Kaggle API. To learn more about Kaggle API, read [here](https://github.com/Kaggle/kaggle-api).It is essential to agree to the T&C of the competition first before using the data. To use the Kaggle API, download the Kaggle json file\n",
        "\n",
        " For people who are not familiar with Google Colab, please read [here](https://medium.com/deep-learning-turkey/google-colab-free-gpu-tutorial-e113627b9f5d) for more information."
      ]
    },
    {
      "metadata": {
        "id": "skO_qGa_S86C",
        "colab_type": "text"
      },
      "cell_type": "markdown",
      "source": [
        "*Install PySpark*"
      ]
    },
    {
      "metadata": {
        "id": "RoQu2-e3Q8ha",
        "colab_type": "code",
        "colab": {}
      },
      "cell_type": "code",
      "source": [
        "!apt-get install openjdk-8-jdk-headless -qq > /dev/null\n",
        "!wget -q http://apache.mirror.digitalpacific.com.au/spark/spark-2.3.3/spark-2.3.3-bin-hadoop2.7.tgz\n",
        "!sudo tar -xf spark-2.3.3-bin-hadoop2.7.tgz\n",
        "!pip install -q findspark"
      ],
      "execution_count": 0,
      "outputs": []
    },
    {
      "metadata": {
        "id": "gfk3apbkYRrQ",
        "colab_type": "code",
        "colab": {}
      },
      "cell_type": "code",
      "source": [
        "import os\n",
        "os.environ[\"JAVA_HOME\"] = \"/usr/lib/jvm/java-8-openjdk-amd64\"\n",
        "os.environ[\"SPARK_HOME\"] = \"/content/spark-2.3.3-bin-hadoop2.7\""
      ],
      "execution_count": 0,
      "outputs": []
    },
    {
      "metadata": {
        "id": "XZUyRNzWYTkB",
        "colab_type": "code",
        "colab": {}
      },
      "cell_type": "code",
      "source": [
        "import findspark\n",
        "findspark.init()\n",
        "from pyspark.sql import SparkSession\n",
        "\n",
        "spark = SparkSession.builder.master(\"local[*]\").getOrCreate()"
      ],
      "execution_count": 0,
      "outputs": []
    },
    {
      "metadata": {
        "id": "Q4P90FNlPdp0",
        "colab_type": "text"
      },
      "cell_type": "markdown",
      "source": [
        "**Testing the data from Kaggle challenge for job recommendation**"
      ]
    },
    {
      "metadata": {
        "id": "tOin7MjnP43u",
        "colab_type": "text"
      },
      "cell_type": "markdown",
      "source": [
        "*Data Collection*"
      ]
    },
    {
      "metadata": {
        "id": "hPy62CBQPc8t",
        "colab_type": "code",
        "outputId": "aeb7d104-320f-4f17-e3de-ff9072afd3fd",
        "colab": {
          "resources": {
            "http://localhost:8080/nbextensions/google.colab/files.js": {
              "data": "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",
              "ok": true,
              "headers": [
                [
                  "content-type",
                  "application/javascript"
                ]
              ],
              "status": 200,
              "status_text": ""
            }
          },
          "base_uri": "https://localhost:8080/",
          "height": 88
        }
      },
      "cell_type": "code",
      "source": [
        "# Upload kaggle.json\n",
        "from google.colab import files\n",
        "files.upload()"
      ],
      "execution_count": 4,
      "outputs": [
        {
          "output_type": "display_data",
          "data": {
            "text/html": [
              "\n",
              "     <input type=\"file\" id=\"files-5c7aa445-a1f2-4208-8e16-8f270ae61189\" name=\"files[]\" multiple disabled />\n",
              "     <output id=\"result-5c7aa445-a1f2-4208-8e16-8f270ae61189\">\n",
              "      Upload widget is only available when the cell has been executed in the\n",
              "      current browser session. Please rerun this cell to enable.\n",
              "      </output>\n",
              "      <script src=\"/nbextensions/google.colab/files.js\"></script> "
            ],
            "text/plain": [
              "<IPython.core.display.HTML object>"
            ]
          },
          "metadata": {
            "tags": []
          }
        },
        {
          "output_type": "stream",
          "text": [
            "Saving kaggle.json to kaggle.json\n"
          ],
          "name": "stdout"
        },
        {
          "output_type": "execute_result",
          "data": {
            "text/plain": [
              "{'kaggle.json': b'{\"username\":\"kienvu145\",\"key\":\"701362c4f8962b18cb4419a33a068f3d\"}'}"
            ]
          },
          "metadata": {
            "tags": []
          },
          "execution_count": 4
        }
      ]
    },
    {
      "metadata": {
        "id": "pwOA-mZrQFJU",
        "colab_type": "code",
        "colab": {}
      },
      "cell_type": "code",
      "source": [
        "!pip install -q kaggle"
      ],
      "execution_count": 0,
      "outputs": []
    },
    {
      "metadata": {
        "id": "n9nk_WLLQMT9",
        "colab_type": "code",
        "colab": {}
      },
      "cell_type": "code",
      "source": [
        "!mkdir -p ~/.kaggle\n",
        "!cp kaggle.json ~/.kaggle/"
      ],
      "execution_count": 0,
      "outputs": []
    },
    {
      "metadata": {
        "id": "NRj0Z5taQP38",
        "colab_type": "code",
        "outputId": "0d0365d9-9e7c-4390-b044-2a46f6efe9bf",
        "colab": {
          "base_uri": "https://localhost:8080/",
          "height": 717
        }
      },
      "cell_type": "code",
      "source": [
        "! kaggle competitions download -c job-recommendation"
      ],
      "execution_count": 7,
      "outputs": [
        {
          "output_type": "stream",
          "text": [
            "Warning: Your Kaggle API key is readable by other users on this system! To fix this, you can run 'chmod 600 /root/.kaggle/kaggle.json'\n",
            "Downloading apps.tsv to /content\n",
            " 88% 63.0M/71.6M [00:00<00:00, 72.3MB/s]\n",
            "100% 71.6M/71.6M [00:00<00:00, 112MB/s] \n",
            "Downloading test_users.tsv to /content\n",
            "  0% 0.00/229k [00:00<?, ?B/s]\n",
            "100% 229k/229k [00:00<00:00, 199MB/s]\n",
            "Downloading user_history.tsv to /content\n",
            " 96% 66.0M/69.1M [00:00<00:00, 66.0MB/s]\n",
            "100% 69.1M/69.1M [00:00<00:00, 101MB/s] \n",
            "Downloading users.tsv to /content\n",
            " 98% 33.0M/33.6M [00:01<00:00, 30.3MB/s]\n",
            "100% 33.6M/33.6M [00:01<00:00, 27.8MB/s]\n",
            "Downloading popular_jobs.csv to /content\n",
            " 61% 14.0M/23.0M [00:00<00:00, 35.0MB/s]\n",
            "100% 23.0M/23.0M [00:00<00:00, 66.0MB/s]\n",
            "Downloading popular_jobs.py to /content\n",
            "  0% 0.00/2.66k [00:00<?, ?B/s]\n",
            "100% 2.66k/2.66k [00:00<00:00, 2.92MB/s]\n",
            "Downloading apps.zip to /content\n",
            " 29% 5.00M/17.0M [00:00<00:00, 21.3MB/s]\n",
            "100% 17.0M/17.0M [00:00<00:00, 48.9MB/s]\n",
            "Downloading test_users.zip to /content\n",
            "  0% 0.00/76.2k [00:00<?, ?B/s]\n",
            "100% 76.2k/76.2k [00:00<00:00, 72.1MB/s]\n",
            "Downloading user_history.zip to /content\n",
            " 30% 5.00M/16.5M [00:00<00:00, 14.4MB/s]\n",
            "100% 16.5M/16.5M [00:00<00:00, 40.9MB/s]\n",
            "Downloading users.zip to /content\n",
            " 62% 5.00M/8.11M [00:00<00:00, 20.3MB/s]\n",
            "100% 8.11M/8.11M [00:00<00:00, 27.0MB/s]\n",
            "Downloading splitjobs.zip to /content\n",
            " 99% 665M/671M [00:08<00:00, 92.1MB/s]\n",
            "100% 671M/671M [00:08<00:00, 82.3MB/s]\n",
            "Downloading jobs.zip to /content\n",
            " 99% 662M/671M [00:08<00:00, 80.3MB/s]\n",
            "100% 671M/671M [00:08<00:00, 80.3MB/s]\n",
            "Downloading window_dates.tsv to /content\n",
            "  0% 0.00/493 [00:00<?, ?B/s]\n",
            "100% 493/493 [00:00<00:00, 413kB/s]\n"
          ],
          "name": "stdout"
        }
      ]
    },
    {
      "metadata": {
        "id": "Y0wc-rr6cTBe",
        "colab_type": "text"
      },
      "cell_type": "markdown",
      "source": [
        "**EDA**"
      ]
    },
    {
      "metadata": {
        "id": "E_yNBHd4TAlM",
        "colab_type": "code",
        "colab": {}
      },
      "cell_type": "code",
      "source": [
        "import numpy as np\n",
        "import pandas as pd\n",
        "import matplotlib.pyplot as plt\n",
        "% matplotlib inline"
      ],
      "execution_count": 0,
      "outputs": []
    },
    {
      "metadata": {
        "id": "ngeu5xy8c1qE",
        "colab_type": "text"
      },
      "cell_type": "markdown",
      "source": [
        "*App.tsv*"
      ]
    },
    {
      "metadata": {
        "id": "SWVdmSK1cxeZ",
        "colab_type": "code",
        "colab": {}
      },
      "cell_type": "code",
      "source": [
        "app = pd.read_csv('apps.tsv',delimiter='\\t',encoding='utf-8')"
      ],
      "execution_count": 0,
      "outputs": []
    },
    {
      "metadata": {
        "id": "UvihwOl0c-a1",
        "colab_type": "code",
        "outputId": "92b98272-e7c7-416c-d840-2e7e7107e75b",
        "colab": {
          "base_uri": "https://localhost:8080/",
          "height": 187
        }
      },
      "cell_type": "code",
      "source": [
        "app.info()"
      ],
      "execution_count": 10,
      "outputs": [
        {
          "output_type": "stream",
          "text": [
            "<class 'pandas.core.frame.DataFrame'>\n",
            "RangeIndex: 1603111 entries, 0 to 1603110\n",
            "Data columns (total 5 columns):\n",
            "UserID             1603111 non-null int64\n",
            "WindowID           1603111 non-null int64\n",
            "Split              1603111 non-null object\n",
            "ApplicationDate    1603111 non-null object\n",
            "JobID              1603111 non-null int64\n",
            "dtypes: int64(3), object(2)\n",
            "memory usage: 61.2+ MB\n"
          ],
          "name": "stdout"
        }
      ]
    },
    {
      "metadata": {
        "id": "zOJeYZxjdAfF",
        "colab_type": "code",
        "colab": {}
      },
      "cell_type": "code",
      "source": [
        "app.describe()"
      ],
      "execution_count": 0,
      "outputs": []
    },
    {
      "metadata": {
        "id": "m3Mj4P_9dEFE",
        "colab_type": "code",
        "colab": {}
      },
      "cell_type": "code",
      "source": [
        "app.head()"
      ],
      "execution_count": 0,
      "outputs": []
    },
    {
      "metadata": {
        "id": "3AmJVC1jdI10",
        "colab_type": "code",
        "outputId": "0180b284-e290-4a20-f212-6b916ae57887",
        "colab": {
          "base_uri": "https://localhost:8080/",
          "height": 49
        }
      },
      "cell_type": "code",
      "source": [
        "app[app.isnull().any(axis=1)]"
      ],
      "execution_count": 14,
      "outputs": [
        {
          "output_type": "execute_result",
          "data": {
            "text/html": [
              "<div>\n",
              "<style scoped>\n",
              "    .dataframe tbody tr th:only-of-type {\n",
              "        vertical-align: middle;\n",
              "    }\n",
              "\n",
              "    .dataframe tbody tr th {\n",
              "        vertical-align: top;\n",
              "    }\n",
              "\n",
              "    .dataframe thead th {\n",
              "        text-align: right;\n",
              "    }\n",
              "</style>\n",
              "<table border=\"1\" class=\"dataframe\">\n",
              "  <thead>\n",
              "    <tr style=\"text-align: right;\">\n",
              "      <th></th>\n",
              "      <th>UserID</th>\n",
              "      <th>WindowID</th>\n",
              "      <th>Split</th>\n",
              "      <th>ApplicationDate</th>\n",
              "      <th>JobID</th>\n",
              "    </tr>\n",
              "  </thead>\n",
              "  <tbody>\n",
              "  </tbody>\n",
              "</table>\n",
              "</div>"
            ],
            "text/plain": [
              "Empty DataFrame\n",
              "Columns: [UserID, WindowID, Split, ApplicationDate, JobID]\n",
              "Index: []"
            ]
          },
          "metadata": {
            "tags": []
          },
          "execution_count": 14
        }
      ]
    },
    {
      "metadata": {
        "id": "iDKEz2kOeBdy",
        "colab_type": "text"
      },
      "cell_type": "markdown",
      "source": [
        "No missing data detected"
      ]
    },
    {
      "metadata": {
        "id": "DcFCWDT2eKT5",
        "colab_type": "code",
        "colab": {}
      },
      "cell_type": "code",
      "source": [
        "app.groupby('UserID')['UserID'].nunique()"
      ],
      "execution_count": 0,
      "outputs": []
    },
    {
      "metadata": {
        "id": "A-H0fOZKgDb6",
        "colab_type": "text"
      },
      "cell_type": "markdown",
      "source": [
        "*Popular_job.csv*"
      ]
    },
    {
      "metadata": {
        "id": "8Fr_V5-YfLOR",
        "colab_type": "code",
        "colab": {}
      },
      "cell_type": "code",
      "source": [
        "popular_job = pd.read_csv('popular_jobs.csv')"
      ],
      "execution_count": 0,
      "outputs": []
    },
    {
      "metadata": {
        "id": "tbYWaH7DgOpI",
        "colab_type": "code",
        "outputId": "e05e12e3-577a-4f8d-df4a-fef4a1503fd4",
        "colab": {
          "base_uri": "https://localhost:8080/",
          "height": 136
        }
      },
      "cell_type": "code",
      "source": [
        "popular_job.info()"
      ],
      "execution_count": 12,
      "outputs": [
        {
          "output_type": "stream",
          "text": [
            "<class 'pandas.core.frame.DataFrame'>\n",
            "RangeIndex: 22838 entries, 0 to 22837\n",
            "Data columns (total 2 columns):\n",
            "UserId     22838 non-null int64\n",
            " JobIds    22762 non-null object\n",
            "dtypes: int64(1), object(1)\n",
            "memory usage: 356.9+ KB\n"
          ],
          "name": "stdout"
        }
      ]
    },
    {
      "metadata": {
        "id": "mCXuWh5igQxA",
        "colab_type": "code",
        "colab": {}
      },
      "cell_type": "code",
      "source": [
        "popular_job.UserId.nunique()"
      ],
      "execution_count": 0,
      "outputs": []
    },
    {
      "metadata": {
        "id": "CQSkWExJ8Tm1",
        "colab_type": "text"
      },
      "cell_type": "markdown",
      "source": [
        "*Jobs dataset*"
      ]
    },
    {
      "metadata": {
        "id": "c9svul1-gT0x",
        "colab_type": "code",
        "colab": {
          "base_uri": "https://localhost:8080/",
          "height": 51
        },
        "outputId": "2af57f5e-b306-4885-f13c-95b1f926d954"
      },
      "cell_type": "code",
      "source": [
        "! unzip jobs.zip"
      ],
      "execution_count": 11,
      "outputs": [
        {
          "output_type": "stream",
          "text": [
            "Archive:  jobs.zip\n",
            "  inflating: jobs.tsv                \n"
          ],
          "name": "stdout"
        }
      ]
    },
    {
      "metadata": {
        "id": "szo0u1Jg83Gy",
        "colab_type": "code",
        "colab": {}
      },
      "cell_type": "code",
      "source": [
        "!ls"
      ],
      "execution_count": 0,
      "outputs": []
    },
    {
      "metadata": {
        "id": "v2-ERn_T9JF-",
        "colab_type": "code",
        "colab": {
          "base_uri": "https://localhost:8080/",
          "height": 122
        },
        "outputId": "23428492-ea5b-4612-a5ca-5feee83909ce"
      },
      "cell_type": "code",
      "source": [
        "jobs = pd.read_csv('jobs.tsv',delimiter='\\t',encoding='utf-8',error_bad_lines=False)"
      ],
      "execution_count": 12,
      "outputs": [
        {
          "output_type": "stream",
          "text": [
            "b'Skipping line 122433: expected 11 fields, saw 12\\n'\n",
            "b'Skipping line 602576: expected 11 fields, saw 12\\n'\n",
            "b'Skipping line 990950: expected 11 fields, saw 12\\n'\n",
            "/usr/local/lib/python3.6/dist-packages/IPython/core/interactiveshell.py:2718: DtypeWarning: Columns (8) have mixed types. Specify dtype option on import or set low_memory=False.\n",
            "  interactivity=interactivity, compiler=compiler, result=result)\n"
          ],
          "name": "stderr"
        }
      ]
    },
    {
      "metadata": {
        "id": "_TzPRO1X9Pf9",
        "colab_type": "code",
        "colab": {}
      },
      "cell_type": "code",
      "source": [
        "jobs.info()"
      ],
      "execution_count": 0,
      "outputs": []
    },
    {
      "metadata": {
        "id": "OtUpA8Gw-AOM",
        "colab_type": "code",
        "colab": {}
      },
      "cell_type": "code",
      "source": [
        "jobs.tail(10)"
      ],
      "execution_count": 0,
      "outputs": []
    },
    {
      "metadata": {
        "id": "vKvKSG_i-Gg1",
        "colab_type": "code",
        "colab": {}
      },
      "cell_type": "code",
      "source": [
        "jobs['Description'].head(10)"
      ],
      "execution_count": 0,
      "outputs": []
    },
    {
      "metadata": {
        "id": "e-XaZko-KNPY",
        "colab_type": "text"
      },
      "cell_type": "markdown",
      "source": [
        "**Building Recommender System**"
      ]
    },
    {
      "metadata": {
        "id": "1M--y2mfKTSe",
        "colab_type": "text"
      },
      "cell_type": "markdown",
      "source": [
        "Popular Job table"
      ]
    },
    {
      "metadata": {
        "id": "_6EWw2nb_yRQ",
        "colab_type": "code",
        "colab": {}
      },
      "cell_type": "code",
      "source": [
        "popular_job[' JobIds'].head(10)"
      ],
      "execution_count": 0,
      "outputs": []
    },
    {
      "metadata": {
        "id": "TOSmJxPlYEZ_",
        "colab_type": "code",
        "colab": {
          "base_uri": "https://localhost:8080/",
          "height": 34
        },
        "outputId": "33f9d162-3d91-43eb-fb2e-29ce46a6d7cf"
      },
      "cell_type": "code",
      "source": [
        "popular_job.UserId.values"
      ],
      "execution_count": 25,
      "outputs": [
        {
          "output_type": "execute_result",
          "data": {
            "text/plain": [
              "array([    767,     769,     861, ..., 1467586, 1470538, 1470809])"
            ]
          },
          "metadata": {
            "tags": []
          },
          "execution_count": 25
        }
      ]
    },
    {
      "metadata": {
        "id": "aGoZhE_uLCjo",
        "colab_type": "code",
        "colab": {}
      },
      "cell_type": "code",
      "source": [
        "# Create dataframe for job applied\n",
        "import re\n",
        "user_ids = []\n",
        "job_ids = []\n",
        "loop_id = popular_job.UserId.values\n",
        "for user_id in loop_id:\n",
        "  applied_job = popular_job[' JobIds'].loc[popular_job['UserId'] == user_id].values.tolist()\n",
        "  applied_job = str(applied_job)\n",
        "  applied_job = re.sub('[^A-Za-z0-9_\\s]+', '', applied_job)\n",
        "  applied_job = applied_job.split()\n",
        "  for job in applied_job:\n",
        "    user_ids.append(user_id)\n",
        "    job_ids.append(job)\n",
        "jobs_tuple = list(zip(user_ids,job_ids))\n",
        "df_applied = pd.DataFrame(jobs_tuple, columns=['Ids','JobID'])"
      ],
      "execution_count": 0,
      "outputs": []
    },
    {
      "metadata": {
        "id": "TQPc7s7OXVdJ",
        "colab_type": "code",
        "colab": {
          "base_uri": "https://localhost:8080/",
          "height": 2000
        },
        "outputId": "f58bc1c5-fc1d-4149-be78-28a5fb79447c"
      },
      "cell_type": "code",
      "source": [
        "df_applied.set_index('Ids')"
      ],
      "execution_count": 14,
      "outputs": [
        {
          "output_type": "execute_result",
          "data": {
            "text/html": [
              "<div>\n",
              "<style scoped>\n",
              "    .dataframe tbody tr th:only-of-type {\n",
              "        vertical-align: middle;\n",
              "    }\n",
              "\n",
              "    .dataframe tbody tr th {\n",
              "        vertical-align: top;\n",
              "    }\n",
              "\n",
              "    .dataframe thead th {\n",
              "        text-align: right;\n",
              "    }\n",
              "</style>\n",
              "<table border=\"1\" class=\"dataframe\">\n",
              "  <thead>\n",
              "    <tr style=\"text-align: right;\">\n",
              "      <th></th>\n",
              "      <th>JobID</th>\n",
              "    </tr>\n",
              "    <tr>\n",
              "      <th>Ids</th>\n",
              "      <th></th>\n",
              "    </tr>\n",
              "  </thead>\n",
              "  <tbody>\n",
              "    <tr>\n",
              "      <th>767</th>\n",
              "      <td>299322</td>\n",
              "    </tr>\n",
              "    <tr>\n",
              "      <th>767</th>\n",
              "      <td>602736</td>\n",
              "    </tr>\n",
              "    <tr>\n",
              "      <th>767</th>\n",
              "      <td>1077691</td>\n",
              "    </tr>\n",
              "    <tr>\n",
              "      <th>767</th>\n",
              "      <td>625281</td>\n",
              "    </tr>\n",
              "    <tr>\n",
              "      <th>767</th>\n",
              "      <td>898514</td>\n",
              "    </tr>\n",
              "    <tr>\n",
              "      <th>767</th>\n",
              "      <td>1035141</td>\n",
              "    </tr>\n",
              "    <tr>\n",
              "      <th>767</th>\n",
              "      <td>659377</td>\n",
              "    </tr>\n",
              "    <tr>\n",
              "      <th>767</th>\n",
              "      <td>370120</td>\n",
              "    </tr>\n",
              "    <tr>\n",
              "      <th>767</th>\n",
              "      <td>370121</td>\n",
              "    </tr>\n",
              "    <tr>\n",
              "      <th>767</th>\n",
              "      <td>147531</td>\n",
              "    </tr>\n",
              "    <tr>\n",
              "      <th>767</th>\n",
              "      <td>404662</td>\n",
              "    </tr>\n",
              "    <tr>\n",
              "      <th>767</th>\n",
              "      <td>62139</td>\n",
              "    </tr>\n",
              "    <tr>\n",
              "      <th>767</th>\n",
              "      <td>96037</td>\n",
              "    </tr>\n",
              "    <tr>\n",
              "      <th>767</th>\n",
              "      <td>1053937</td>\n",
              "    </tr>\n",
              "    <tr>\n",
              "      <th>767</th>\n",
              "      <td>818244</td>\n",
              "    </tr>\n",
              "    <tr>\n",
              "      <th>767</th>\n",
              "      <td>38084</td>\n",
              "    </tr>\n",
              "    <tr>\n",
              "      <th>767</th>\n",
              "      <td>637991</td>\n",
              "    </tr>\n",
              "    <tr>\n",
              "      <th>767</th>\n",
              "      <td>96741</td>\n",
              "    </tr>\n",
              "    <tr>\n",
              "      <th>767</th>\n",
              "      <td>447431</td>\n",
              "    </tr>\n",
              "    <tr>\n",
              "      <th>767</th>\n",
              "      <td>147565</td>\n",
              "    </tr>\n",
              "    <tr>\n",
              "      <th>767</th>\n",
              "      <td>147563</td>\n",
              "    </tr>\n",
              "    <tr>\n",
              "      <th>767</th>\n",
              "      <td>147088</td>\n",
              "    </tr>\n",
              "    <tr>\n",
              "      <th>767</th>\n",
              "      <td>567542</td>\n",
              "    </tr>\n",
              "    <tr>\n",
              "      <th>767</th>\n",
              "      <td>848187</td>\n",
              "    </tr>\n",
              "    <tr>\n",
              "      <th>767</th>\n",
              "      <td>515420</td>\n",
              "    </tr>\n",
              "    <tr>\n",
              "      <th>767</th>\n",
              "      <td>880102</td>\n",
              "    </tr>\n",
              "    <tr>\n",
              "      <th>767</th>\n",
              "      <td>1088282</td>\n",
              "    </tr>\n",
              "    <tr>\n",
              "      <th>767</th>\n",
              "      <td>1093039</td>\n",
              "    </tr>\n",
              "    <tr>\n",
              "      <th>767</th>\n",
              "      <td>302282</td>\n",
              "    </tr>\n",
              "    <tr>\n",
              "      <th>767</th>\n",
              "      <td>650313</td>\n",
              "    </tr>\n",
              "    <tr>\n",
              "      <th>...</th>\n",
              "      <td>...</td>\n",
              "    </tr>\n",
              "    <tr>\n",
              "      <th>1470809</th>\n",
              "      <td>1047523</td>\n",
              "    </tr>\n",
              "    <tr>\n",
              "      <th>1470809</th>\n",
              "      <td>873005</td>\n",
              "    </tr>\n",
              "    <tr>\n",
              "      <th>1470809</th>\n",
              "      <td>203822</td>\n",
              "    </tr>\n",
              "    <tr>\n",
              "      <th>1470809</th>\n",
              "      <td>250232</td>\n",
              "    </tr>\n",
              "    <tr>\n",
              "      <th>1470809</th>\n",
              "      <td>43868</td>\n",
              "    </tr>\n",
              "    <tr>\n",
              "      <th>1470809</th>\n",
              "      <td>1052906</td>\n",
              "    </tr>\n",
              "    <tr>\n",
              "      <th>1470809</th>\n",
              "      <td>1000369</td>\n",
              "    </tr>\n",
              "    <tr>\n",
              "      <th>1470809</th>\n",
              "      <td>73555</td>\n",
              "    </tr>\n",
              "    <tr>\n",
              "      <th>1470809</th>\n",
              "      <td>663041</td>\n",
              "    </tr>\n",
              "    <tr>\n",
              "      <th>1470809</th>\n",
              "      <td>280051</td>\n",
              "    </tr>\n",
              "    <tr>\n",
              "      <th>1470809</th>\n",
              "      <td>656779</td>\n",
              "    </tr>\n",
              "    <tr>\n",
              "      <th>1470809</th>\n",
              "      <td>879390</td>\n",
              "    </tr>\n",
              "    <tr>\n",
              "      <th>1470809</th>\n",
              "      <td>500691</td>\n",
              "    </tr>\n",
              "    <tr>\n",
              "      <th>1470809</th>\n",
              "      <td>682316</td>\n",
              "    </tr>\n",
              "    <tr>\n",
              "      <th>1470809</th>\n",
              "      <td>175179</td>\n",
              "    </tr>\n",
              "    <tr>\n",
              "      <th>1470809</th>\n",
              "      <td>105789</td>\n",
              "    </tr>\n",
              "    <tr>\n",
              "      <th>1470809</th>\n",
              "      <td>1054505</td>\n",
              "    </tr>\n",
              "    <tr>\n",
              "      <th>1470809</th>\n",
              "      <td>59043</td>\n",
              "    </tr>\n",
              "    <tr>\n",
              "      <th>1470809</th>\n",
              "      <td>491219</td>\n",
              "    </tr>\n",
              "    <tr>\n",
              "      <th>1470809</th>\n",
              "      <td>759918</td>\n",
              "    </tr>\n",
              "    <tr>\n",
              "      <th>1470809</th>\n",
              "      <td>333609</td>\n",
              "    </tr>\n",
              "    <tr>\n",
              "      <th>1470809</th>\n",
              "      <td>219241</td>\n",
              "    </tr>\n",
              "    <tr>\n",
              "      <th>1470809</th>\n",
              "      <td>446154</td>\n",
              "    </tr>\n",
              "    <tr>\n",
              "      <th>1470809</th>\n",
              "      <td>668262</td>\n",
              "    </tr>\n",
              "    <tr>\n",
              "      <th>1470809</th>\n",
              "      <td>225460</td>\n",
              "    </tr>\n",
              "    <tr>\n",
              "      <th>1470809</th>\n",
              "      <td>765520</td>\n",
              "    </tr>\n",
              "    <tr>\n",
              "      <th>1470809</th>\n",
              "      <td>277335</td>\n",
              "    </tr>\n",
              "    <tr>\n",
              "      <th>1470809</th>\n",
              "      <td>369182</td>\n",
              "    </tr>\n",
              "    <tr>\n",
              "      <th>1470809</th>\n",
              "      <td>276902</td>\n",
              "    </tr>\n",
              "    <tr>\n",
              "      <th>1470809</th>\n",
              "      <td>228967</td>\n",
              "    </tr>\n",
              "  </tbody>\n",
              "</table>\n",
              "<p>3413824 rows × 1 columns</p>\n",
              "</div>"
            ],
            "text/plain": [
              "           JobID\n",
              "Ids             \n",
              "767       299322\n",
              "767       602736\n",
              "767      1077691\n",
              "767       625281\n",
              "767       898514\n",
              "767      1035141\n",
              "767       659377\n",
              "767       370120\n",
              "767       370121\n",
              "767       147531\n",
              "767       404662\n",
              "767        62139\n",
              "767        96037\n",
              "767      1053937\n",
              "767       818244\n",
              "767        38084\n",
              "767       637991\n",
              "767        96741\n",
              "767       447431\n",
              "767       147565\n",
              "767       147563\n",
              "767       147088\n",
              "767       567542\n",
              "767       848187\n",
              "767       515420\n",
              "767       880102\n",
              "767      1088282\n",
              "767      1093039\n",
              "767       302282\n",
              "767       650313\n",
              "...          ...\n",
              "1470809  1047523\n",
              "1470809   873005\n",
              "1470809   203822\n",
              "1470809   250232\n",
              "1470809    43868\n",
              "1470809  1052906\n",
              "1470809  1000369\n",
              "1470809    73555\n",
              "1470809   663041\n",
              "1470809   280051\n",
              "1470809   656779\n",
              "1470809   879390\n",
              "1470809   500691\n",
              "1470809   682316\n",
              "1470809   175179\n",
              "1470809   105789\n",
              "1470809  1054505\n",
              "1470809    59043\n",
              "1470809   491219\n",
              "1470809   759918\n",
              "1470809   333609\n",
              "1470809   219241\n",
              "1470809   446154\n",
              "1470809   668262\n",
              "1470809   225460\n",
              "1470809   765520\n",
              "1470809   277335\n",
              "1470809   369182\n",
              "1470809   276902\n",
              "1470809   228967\n",
              "\n",
              "[3413824 rows x 1 columns]"
            ]
          },
          "metadata": {
            "tags": []
          },
          "execution_count": 14
        }
      ]
    },
    {
      "metadata": {
        "id": "mnIlbcgzYZEQ",
        "colab_type": "code",
        "colab": {}
      },
      "cell_type": "code",
      "source": [
        "# Add binary label\n",
        "df_applied['binary_label'] = 1"
      ],
      "execution_count": 0,
      "outputs": []
    },
    {
      "metadata": {
        "id": "pX9bQ8vuzIe5",
        "colab_type": "code",
        "colab": {}
      },
      "cell_type": "code",
      "source": [
        "df_applied.head()"
      ],
      "execution_count": 0,
      "outputs": []
    },
    {
      "metadata": {
        "id": "qcbQ8BED9-Rq",
        "colab_type": "text"
      },
      "cell_type": "markdown",
      "source": [
        "*Creat dataframe for job not applied*"
      ]
    },
    {
      "metadata": {
        "id": "_XL0PXTWzK9x",
        "colab_type": "code",
        "colab": {}
      },
      "cell_type": "code",
      "source": [
        "df_jobs = pd.DataFrame()\n",
        "df_jobs['JobID'] = jobs['JobID'].copy()"
      ],
      "execution_count": 0,
      "outputs": []
    },
    {
      "metadata": {
        "id": "c9JYiF7G9b0p",
        "colab_type": "code",
        "colab": {}
      },
      "cell_type": "code",
      "source": [
        "# Extracting jobid for test\n",
        "#user_id: 767\n",
        "selected_user_id = 767\n",
        "df_jobs_test['Ids'] = selected_user_id"
      ],
      "execution_count": 0,
      "outputs": []
    },
    {
      "metadata": {
        "id": "cTE7OxPEMj7m",
        "colab_type": "code",
        "colab": {}
      },
      "cell_type": "code",
      "source": [
        "df_jobs_test.set_index('Ids')"
      ],
      "execution_count": 0,
      "outputs": []
    },
    {
      "metadata": {
        "id": "m84dldj_NWIs",
        "colab_type": "code",
        "colab": {}
      },
      "cell_type": "code",
      "source": [
        "df_applied_test = df_applied[df_applied['Ids'] == selected_user_id]\n",
        "df_applied_test.head()"
      ],
      "execution_count": 0,
      "outputs": []
    },
    {
      "metadata": {
        "id": "SvJH41jeVBJi",
        "colab_type": "code",
        "colab": {}
      },
      "cell_type": "code",
      "source": [
        "df_jobs_test['JobID'].dtype"
      ],
      "execution_count": 0,
      "outputs": []
    },
    {
      "metadata": {
        "id": "lQxoORVJaC3_",
        "colab_type": "code",
        "colab": {}
      },
      "cell_type": "code",
      "source": [
        "df_applied_test['JobID'] = df_applied_test['JobID'].astype(int)"
      ],
      "execution_count": 0,
      "outputs": []
    },
    {
      "metadata": {
        "id": "x5TSxHiKalH6",
        "colab_type": "code",
        "colab": {}
      },
      "cell_type": "code",
      "source": [
        "df_applied_test['JobID'].dtype"
      ],
      "execution_count": 0,
      "outputs": []
    },
    {
      "metadata": {
        "id": "8SZb5z3EX4cX",
        "colab_type": "code",
        "colab": {}
      },
      "cell_type": "code",
      "source": [
        "df_merge_test = pd.merge(df_jobs_test,df_applied_test,on=['JobID'],how='left')"
      ],
      "execution_count": 0,
      "outputs": []
    },
    {
      "metadata": {
        "id": "cSZuzOFXa7fz",
        "colab_type": "code",
        "colab": {}
      },
      "cell_type": "code",
      "source": [
        "df_merge_test = df_merge_test.drop('Ids_y',axis=1)"
      ],
      "execution_count": 0,
      "outputs": []
    },
    {
      "metadata": {
        "id": "HdEkKcoEZU6f",
        "colab_type": "code",
        "colab": {}
      },
      "cell_type": "code",
      "source": [
        "df_merge_test['binary_label'] = df_merge_test['binary_label'].fillna(0)"
      ],
      "execution_count": 0,
      "outputs": []
    },
    {
      "metadata": {
        "id": "utcsoPOsbMQ8",
        "colab_type": "code",
        "colab": {}
      },
      "cell_type": "code",
      "source": [
        "df_merge_test.set_index('Ids_x')"
      ],
      "execution_count": 0,
      "outputs": []
    },
    {
      "metadata": {
        "id": "P4csxAQvcHJd",
        "colab_type": "code",
        "colab": {}
      },
      "cell_type": "code",
      "source": [
        "# Select the data for training (20%-1, 80%-0)\n",
        "df_test_data_1 = df_merge_test[df_merge_test['binary_label'] == 1]\n",
        "test_data_1_length = int(df_test_data_1.shape[0])"
      ],
      "execution_count": 0,
      "outputs": []
    },
    {
      "metadata": {
        "id": "ieFQbZ2lfN3j",
        "colab_type": "code",
        "colab": {}
      },
      "cell_type": "code",
      "source": [
        "data_ratio = 0.2\n",
        "test_data_0_length = int((test_data_1_length / data_ratio) - test_data_1_length)\n",
        "print(test_data_0_length)"
      ],
      "execution_count": 0,
      "outputs": []
    },
    {
      "metadata": {
        "id": "GdoTAXxDflo0",
        "colab_type": "code",
        "colab": {}
      },
      "cell_type": "code",
      "source": [
        "df_test_data_0 = df_merge_test[df_merge_test['binary_label'] == 0]\n",
        "df_test_data_0 = df_test_data_0.sample(n=test_data_0_length,random_state=1234)"
      ],
      "execution_count": 0,
      "outputs": []
    },
    {
      "metadata": {
        "id": "PLikKsZtgA5v",
        "colab_type": "code",
        "colab": {}
      },
      "cell_type": "code",
      "source": [
        "df_test_data_1.set_index('Ids_x')\n",
        "df_test_data_0.set_index('Ids_x')\n",
        "df_test_data_0.head(20)"
      ],
      "execution_count": 0,
      "outputs": []
    },
    {
      "metadata": {
        "id": "oUPD40FogHXX",
        "colab_type": "code",
        "colab": {}
      },
      "cell_type": "code",
      "source": [
        "df_test_data_1.head(2)"
      ],
      "execution_count": 0,
      "outputs": []
    },
    {
      "metadata": {
        "id": "s_2ML5w4gipk",
        "colab_type": "code",
        "colab": {}
      },
      "cell_type": "code",
      "source": [
        "# concat for test\n",
        "df_concat_test = pd.concat([df_test_data_1,df_test_data_0])"
      ],
      "execution_count": 0,
      "outputs": []
    },
    {
      "metadata": {
        "id": "2jJsBu3Qhnjd",
        "colab_type": "code",
        "colab": {}
      },
      "cell_type": "code",
      "source": [
        "df_concat_test.tail(40)"
      ],
      "execution_count": 0,
      "outputs": []
    },
    {
      "metadata": {
        "id": "kwArUjJ0Igtx",
        "colab_type": "code",
        "colab": {
          "base_uri": "https://localhost:8080/",
          "height": 88
        },
        "outputId": "9940debf-7f6b-49ee-dbe1-628e5a36e8a7"
      },
      "cell_type": "code",
      "source": [
        "!pip install numba"
      ],
      "execution_count": 23,
      "outputs": [
        {
          "output_type": "stream",
          "text": [
            "Requirement already satisfied: numba in /usr/local/lib/python3.6/dist-packages (0.40.1)\n",
            "Requirement already satisfied: numpy in /usr/local/lib/python3.6/dist-packages (from numba) (1.14.6)\n",
            "Requirement already satisfied: llvmlite>=0.25.0dev0 in /usr/local/lib/python3.6/dist-packages (from numba) (0.28.0)\n"
          ],
          "name": "stdout"
        }
      ]
    },
    {
      "metadata": {
        "id": "NQCsiOwLr3fd",
        "colab_type": "code",
        "colab": {}
      },
      "cell_type": "code",
      "source": [
        "df_applied.drop(df_applied[df_applied.JobID == 'nan'].index,inplace=True)"
      ],
      "execution_count": 0,
      "outputs": []
    },
    {
      "metadata": {
        "id": "mEv3O1FgqXIu",
        "colab_type": "code",
        "colab": {}
      },
      "cell_type": "code",
      "source": [
        "df_applied['JobID'] = df_applied['JobID'].astype(int)"
      ],
      "execution_count": 0,
      "outputs": []
    },
    {
      "metadata": {
        "id": "qsbc2zCpykv_",
        "colab_type": "code",
        "colab": {}
      },
      "cell_type": "code",
      "source": [
        "training_data.info()"
      ],
      "execution_count": 0,
      "outputs": []
    },
    {
      "metadata": {
        "id": "wSnDf1Qpazp0",
        "colab_type": "text"
      },
      "cell_type": "markdown",
      "source": [
        "***Combining df_applied and df_jobs for user_ids***"
      ]
    },
    {
      "metadata": {
        "id": "wwAV17JFa-a-",
        "colab_type": "code",
        "colab": {}
      },
      "cell_type": "code",
      "source": [
        "df_applied.drop(df_applied[df_applied.JobID == 'nan'].index,inplace=True)\n",
        "df_applied['JobID'] = df_applied['JobID'].astype(int)"
      ],
      "execution_count": 0,
      "outputs": []
    },
    {
      "metadata": {
        "id": "ryQ2qPcubPlk",
        "colab_type": "code",
        "colab": {
          "base_uri": "https://localhost:8080/",
          "height": 34
        },
        "outputId": "90b2d395-19db-4892-a148-015468d12419"
      },
      "cell_type": "code",
      "source": [
        "df_applied['JobID'].dtype"
      ],
      "execution_count": 18,
      "outputs": [
        {
          "output_type": "execute_result",
          "data": {
            "text/plain": [
              "dtype('int64')"
            ]
          },
          "metadata": {
            "tags": []
          },
          "execution_count": 18
        }
      ]
    },
    {
      "metadata": {
        "id": "WQ9PQL36bRzz",
        "colab_type": "code",
        "colab": {
          "base_uri": "https://localhost:8080/",
          "height": 34
        },
        "outputId": "962d21c1-7cd9-4c13-ae3f-deffcc77c5fc"
      },
      "cell_type": "code",
      "source": [
        "df_jobs['JobID'].dtype"
      ],
      "execution_count": 19,
      "outputs": [
        {
          "output_type": "execute_result",
          "data": {
            "text/plain": [
              "dtype('int64')"
            ]
          },
          "metadata": {
            "tags": []
          },
          "execution_count": 19
        }
      ]
    },
    {
      "metadata": {
        "id": "eq0_V9RWbwjv",
        "colab_type": "code",
        "colab": {}
      },
      "cell_type": "code",
      "source": [
        "df_jobs['binary_label'] = int(0)"
      ],
      "execution_count": 0,
      "outputs": []
    },
    {
      "metadata": {
        "id": "VtN2OPahhKtG",
        "colab_type": "code",
        "colab": {
          "base_uri": "https://localhost:8080/",
          "height": 204
        },
        "outputId": "97eff70c-d55c-4dd0-b2fd-37bb9d2b9014"
      },
      "cell_type": "code",
      "source": [
        "df_jobs.head()"
      ],
      "execution_count": 29,
      "outputs": [
        {
          "output_type": "execute_result",
          "data": {
            "text/html": [
              "<div>\n",
              "<style scoped>\n",
              "    .dataframe tbody tr th:only-of-type {\n",
              "        vertical-align: middle;\n",
              "    }\n",
              "\n",
              "    .dataframe tbody tr th {\n",
              "        vertical-align: top;\n",
              "    }\n",
              "\n",
              "    .dataframe thead th {\n",
              "        text-align: right;\n",
              "    }\n",
              "</style>\n",
              "<table border=\"1\" class=\"dataframe\">\n",
              "  <thead>\n",
              "    <tr style=\"text-align: right;\">\n",
              "      <th></th>\n",
              "      <th>JobID</th>\n",
              "      <th>binary_label</th>\n",
              "    </tr>\n",
              "  </thead>\n",
              "  <tbody>\n",
              "    <tr>\n",
              "      <th>0</th>\n",
              "      <td>1</td>\n",
              "      <td>0</td>\n",
              "    </tr>\n",
              "    <tr>\n",
              "      <th>1</th>\n",
              "      <td>4</td>\n",
              "      <td>0</td>\n",
              "    </tr>\n",
              "    <tr>\n",
              "      <th>2</th>\n",
              "      <td>7</td>\n",
              "      <td>0</td>\n",
              "    </tr>\n",
              "    <tr>\n",
              "      <th>3</th>\n",
              "      <td>8</td>\n",
              "      <td>0</td>\n",
              "    </tr>\n",
              "    <tr>\n",
              "      <th>4</th>\n",
              "      <td>9</td>\n",
              "      <td>0</td>\n",
              "    </tr>\n",
              "  </tbody>\n",
              "</table>\n",
              "</div>"
            ],
            "text/plain": [
              "   JobID  binary_label\n",
              "0      1             0\n",
              "1      4             0\n",
              "2      7             0\n",
              "3      8             0\n",
              "4      9             0"
            ]
          },
          "metadata": {
            "tags": []
          },
          "execution_count": 29
        }
      ]
    },
    {
      "metadata": {
        "id": "_1SIYtmVhMjl",
        "colab_type": "code",
        "colab": {
          "base_uri": "https://localhost:8080/",
          "height": 119
        },
        "outputId": "3a609b3e-6401-4a71-b794-336bfae2d8c3"
      },
      "cell_type": "code",
      "source": [
        "df_applied.index"
      ],
      "execution_count": 30,
      "outputs": [
        {
          "output_type": "execute_result",
          "data": {
            "text/plain": [
              "Int64Index([      0,       1,       2,       3,       4,       5,       6,\n",
              "                  7,       8,       9,\n",
              "            ...\n",
              "            3413814, 3413815, 3413816, 3413817, 3413818, 3413819, 3413820,\n",
              "            3413821, 3413822, 3413823],\n",
              "           dtype='int64', length=3413748)"
            ]
          },
          "metadata": {
            "tags": []
          },
          "execution_count": 30
        }
      ]
    },
    {
      "metadata": {
        "id": "sI2Muvk3jVne",
        "colab_type": "code",
        "colab": {}
      },
      "cell_type": "code",
      "source": [
        "# try combining two dataframe with left join\n",
        "combined_test = pd.merge(df_jobs,df_applied,on='JobID',how='left')"
      ],
      "execution_count": 0,
      "outputs": []
    },
    {
      "metadata": {
        "id": "4TLx58t-j5Hy",
        "colab_type": "code",
        "colab": {
          "base_uri": "https://localhost:8080/",
          "height": 1969
        },
        "outputId": "28e70c3a-b8c3-45b9-b736-fcc300d60d81"
      },
      "cell_type": "code",
      "source": [
        "combined_test[combined_test['Ids'].notnull()]"
      ],
      "execution_count": 22,
      "outputs": [
        {
          "output_type": "execute_result",
          "data": {
            "text/html": [
              "<div>\n",
              "<style scoped>\n",
              "    .dataframe tbody tr th:only-of-type {\n",
              "        vertical-align: middle;\n",
              "    }\n",
              "\n",
              "    .dataframe tbody tr th {\n",
              "        vertical-align: top;\n",
              "    }\n",
              "\n",
              "    .dataframe thead th {\n",
              "        text-align: right;\n",
              "    }\n",
              "</style>\n",
              "<table border=\"1\" class=\"dataframe\">\n",
              "  <thead>\n",
              "    <tr style=\"text-align: right;\">\n",
              "      <th></th>\n",
              "      <th>JobID</th>\n",
              "      <th>binary_label_x</th>\n",
              "      <th>Ids</th>\n",
              "      <th>binary_label_y</th>\n",
              "    </tr>\n",
              "  </thead>\n",
              "  <tbody>\n",
              "    <tr>\n",
              "      <th>2</th>\n",
              "      <td>7</td>\n",
              "      <td>0</td>\n",
              "      <td>1082218.0</td>\n",
              "      <td>1.0</td>\n",
              "    </tr>\n",
              "    <tr>\n",
              "      <th>6</th>\n",
              "      <td>11</td>\n",
              "      <td>0</td>\n",
              "      <td>4639.0</td>\n",
              "      <td>1.0</td>\n",
              "    </tr>\n",
              "    <tr>\n",
              "      <th>7</th>\n",
              "      <td>11</td>\n",
              "      <td>0</td>\n",
              "      <td>26275.0</td>\n",
              "      <td>1.0</td>\n",
              "    </tr>\n",
              "    <tr>\n",
              "      <th>8</th>\n",
              "      <td>11</td>\n",
              "      <td>0</td>\n",
              "      <td>36199.0</td>\n",
              "      <td>1.0</td>\n",
              "    </tr>\n",
              "    <tr>\n",
              "      <th>9</th>\n",
              "      <td>11</td>\n",
              "      <td>0</td>\n",
              "      <td>98819.0</td>\n",
              "      <td>1.0</td>\n",
              "    </tr>\n",
              "    <tr>\n",
              "      <th>10</th>\n",
              "      <td>11</td>\n",
              "      <td>0</td>\n",
              "      <td>101953.0</td>\n",
              "      <td>1.0</td>\n",
              "    </tr>\n",
              "    <tr>\n",
              "      <th>11</th>\n",
              "      <td>11</td>\n",
              "      <td>0</td>\n",
              "      <td>104975.0</td>\n",
              "      <td>1.0</td>\n",
              "    </tr>\n",
              "    <tr>\n",
              "      <th>12</th>\n",
              "      <td>11</td>\n",
              "      <td>0</td>\n",
              "      <td>106229.0</td>\n",
              "      <td>1.0</td>\n",
              "    </tr>\n",
              "    <tr>\n",
              "      <th>13</th>\n",
              "      <td>11</td>\n",
              "      <td>0</td>\n",
              "      <td>110599.0</td>\n",
              "      <td>1.0</td>\n",
              "    </tr>\n",
              "    <tr>\n",
              "      <th>14</th>\n",
              "      <td>11</td>\n",
              "      <td>0</td>\n",
              "      <td>173987.0</td>\n",
              "      <td>1.0</td>\n",
              "    </tr>\n",
              "    <tr>\n",
              "      <th>15</th>\n",
              "      <td>11</td>\n",
              "      <td>0</td>\n",
              "      <td>181416.0</td>\n",
              "      <td>1.0</td>\n",
              "    </tr>\n",
              "    <tr>\n",
              "      <th>16</th>\n",
              "      <td>11</td>\n",
              "      <td>0</td>\n",
              "      <td>192095.0</td>\n",
              "      <td>1.0</td>\n",
              "    </tr>\n",
              "    <tr>\n",
              "      <th>17</th>\n",
              "      <td>11</td>\n",
              "      <td>0</td>\n",
              "      <td>205370.0</td>\n",
              "      <td>1.0</td>\n",
              "    </tr>\n",
              "    <tr>\n",
              "      <th>18</th>\n",
              "      <td>11</td>\n",
              "      <td>0</td>\n",
              "      <td>218817.0</td>\n",
              "      <td>1.0</td>\n",
              "    </tr>\n",
              "    <tr>\n",
              "      <th>19</th>\n",
              "      <td>11</td>\n",
              "      <td>0</td>\n",
              "      <td>236844.0</td>\n",
              "      <td>1.0</td>\n",
              "    </tr>\n",
              "    <tr>\n",
              "      <th>20</th>\n",
              "      <td>11</td>\n",
              "      <td>0</td>\n",
              "      <td>284047.0</td>\n",
              "      <td>1.0</td>\n",
              "    </tr>\n",
              "    <tr>\n",
              "      <th>21</th>\n",
              "      <td>11</td>\n",
              "      <td>0</td>\n",
              "      <td>301430.0</td>\n",
              "      <td>1.0</td>\n",
              "    </tr>\n",
              "    <tr>\n",
              "      <th>22</th>\n",
              "      <td>11</td>\n",
              "      <td>0</td>\n",
              "      <td>327267.0</td>\n",
              "      <td>1.0</td>\n",
              "    </tr>\n",
              "    <tr>\n",
              "      <th>23</th>\n",
              "      <td>11</td>\n",
              "      <td>0</td>\n",
              "      <td>346888.0</td>\n",
              "      <td>1.0</td>\n",
              "    </tr>\n",
              "    <tr>\n",
              "      <th>24</th>\n",
              "      <td>11</td>\n",
              "      <td>0</td>\n",
              "      <td>418770.0</td>\n",
              "      <td>1.0</td>\n",
              "    </tr>\n",
              "    <tr>\n",
              "      <th>25</th>\n",
              "      <td>11</td>\n",
              "      <td>0</td>\n",
              "      <td>442451.0</td>\n",
              "      <td>1.0</td>\n",
              "    </tr>\n",
              "    <tr>\n",
              "      <th>26</th>\n",
              "      <td>11</td>\n",
              "      <td>0</td>\n",
              "      <td>476327.0</td>\n",
              "      <td>1.0</td>\n",
              "    </tr>\n",
              "    <tr>\n",
              "      <th>27</th>\n",
              "      <td>11</td>\n",
              "      <td>0</td>\n",
              "      <td>481585.0</td>\n",
              "      <td>1.0</td>\n",
              "    </tr>\n",
              "    <tr>\n",
              "      <th>28</th>\n",
              "      <td>11</td>\n",
              "      <td>0</td>\n",
              "      <td>494138.0</td>\n",
              "      <td>1.0</td>\n",
              "    </tr>\n",
              "    <tr>\n",
              "      <th>29</th>\n",
              "      <td>11</td>\n",
              "      <td>0</td>\n",
              "      <td>595953.0</td>\n",
              "      <td>1.0</td>\n",
              "    </tr>\n",
              "    <tr>\n",
              "      <th>30</th>\n",
              "      <td>11</td>\n",
              "      <td>0</td>\n",
              "      <td>596014.0</td>\n",
              "      <td>1.0</td>\n",
              "    </tr>\n",
              "    <tr>\n",
              "      <th>31</th>\n",
              "      <td>11</td>\n",
              "      <td>0</td>\n",
              "      <td>605347.0</td>\n",
              "      <td>1.0</td>\n",
              "    </tr>\n",
              "    <tr>\n",
              "      <th>32</th>\n",
              "      <td>11</td>\n",
              "      <td>0</td>\n",
              "      <td>702702.0</td>\n",
              "      <td>1.0</td>\n",
              "    </tr>\n",
              "    <tr>\n",
              "      <th>33</th>\n",
              "      <td>11</td>\n",
              "      <td>0</td>\n",
              "      <td>728400.0</td>\n",
              "      <td>1.0</td>\n",
              "    </tr>\n",
              "    <tr>\n",
              "      <th>34</th>\n",
              "      <td>11</td>\n",
              "      <td>0</td>\n",
              "      <td>736917.0</td>\n",
              "      <td>1.0</td>\n",
              "    </tr>\n",
              "    <tr>\n",
              "      <th>...</th>\n",
              "      <td>...</td>\n",
              "      <td>...</td>\n",
              "      <td>...</td>\n",
              "      <td>...</td>\n",
              "    </tr>\n",
              "    <tr>\n",
              "      <th>4158800</th>\n",
              "      <td>1116074</td>\n",
              "      <td>0</td>\n",
              "      <td>1238283.0</td>\n",
              "      <td>1.0</td>\n",
              "    </tr>\n",
              "    <tr>\n",
              "      <th>4158801</th>\n",
              "      <td>1116074</td>\n",
              "      <td>0</td>\n",
              "      <td>1238291.0</td>\n",
              "      <td>1.0</td>\n",
              "    </tr>\n",
              "    <tr>\n",
              "      <th>4158803</th>\n",
              "      <td>1116077</td>\n",
              "      <td>0</td>\n",
              "      <td>15581.0</td>\n",
              "      <td>1.0</td>\n",
              "    </tr>\n",
              "    <tr>\n",
              "      <th>4158804</th>\n",
              "      <td>1116077</td>\n",
              "      <td>0</td>\n",
              "      <td>215296.0</td>\n",
              "      <td>1.0</td>\n",
              "    </tr>\n",
              "    <tr>\n",
              "      <th>4158805</th>\n",
              "      <td>1116077</td>\n",
              "      <td>0</td>\n",
              "      <td>276028.0</td>\n",
              "      <td>1.0</td>\n",
              "    </tr>\n",
              "    <tr>\n",
              "      <th>4158806</th>\n",
              "      <td>1116077</td>\n",
              "      <td>0</td>\n",
              "      <td>597881.0</td>\n",
              "      <td>1.0</td>\n",
              "    </tr>\n",
              "    <tr>\n",
              "      <th>4158807</th>\n",
              "      <td>1116077</td>\n",
              "      <td>0</td>\n",
              "      <td>736021.0</td>\n",
              "      <td>1.0</td>\n",
              "    </tr>\n",
              "    <tr>\n",
              "      <th>4158808</th>\n",
              "      <td>1116077</td>\n",
              "      <td>0</td>\n",
              "      <td>864110.0</td>\n",
              "      <td>1.0</td>\n",
              "    </tr>\n",
              "    <tr>\n",
              "      <th>4158809</th>\n",
              "      <td>1116077</td>\n",
              "      <td>0</td>\n",
              "      <td>872311.0</td>\n",
              "      <td>1.0</td>\n",
              "    </tr>\n",
              "    <tr>\n",
              "      <th>4158810</th>\n",
              "      <td>1116077</td>\n",
              "      <td>0</td>\n",
              "      <td>886139.0</td>\n",
              "      <td>1.0</td>\n",
              "    </tr>\n",
              "    <tr>\n",
              "      <th>4158811</th>\n",
              "      <td>1116077</td>\n",
              "      <td>0</td>\n",
              "      <td>891792.0</td>\n",
              "      <td>1.0</td>\n",
              "    </tr>\n",
              "    <tr>\n",
              "      <th>4158812</th>\n",
              "      <td>1116077</td>\n",
              "      <td>0</td>\n",
              "      <td>906989.0</td>\n",
              "      <td>1.0</td>\n",
              "    </tr>\n",
              "    <tr>\n",
              "      <th>4158813</th>\n",
              "      <td>1116077</td>\n",
              "      <td>0</td>\n",
              "      <td>910188.0</td>\n",
              "      <td>1.0</td>\n",
              "    </tr>\n",
              "    <tr>\n",
              "      <th>4158818</th>\n",
              "      <td>1116166</td>\n",
              "      <td>0</td>\n",
              "      <td>1146957.0</td>\n",
              "      <td>1.0</td>\n",
              "    </tr>\n",
              "    <tr>\n",
              "      <th>4158821</th>\n",
              "      <td>1116184</td>\n",
              "      <td>0</td>\n",
              "      <td>358551.0</td>\n",
              "      <td>1.0</td>\n",
              "    </tr>\n",
              "    <tr>\n",
              "      <th>4158822</th>\n",
              "      <td>1116185</td>\n",
              "      <td>0</td>\n",
              "      <td>32478.0</td>\n",
              "      <td>1.0</td>\n",
              "    </tr>\n",
              "    <tr>\n",
              "      <th>4158823</th>\n",
              "      <td>1116185</td>\n",
              "      <td>0</td>\n",
              "      <td>33615.0</td>\n",
              "      <td>1.0</td>\n",
              "    </tr>\n",
              "    <tr>\n",
              "      <th>4158824</th>\n",
              "      <td>1116185</td>\n",
              "      <td>0</td>\n",
              "      <td>317732.0</td>\n",
              "      <td>1.0</td>\n",
              "    </tr>\n",
              "    <tr>\n",
              "      <th>4158825</th>\n",
              "      <td>1116185</td>\n",
              "      <td>0</td>\n",
              "      <td>681121.0</td>\n",
              "      <td>1.0</td>\n",
              "    </tr>\n",
              "    <tr>\n",
              "      <th>4158826</th>\n",
              "      <td>1116185</td>\n",
              "      <td>0</td>\n",
              "      <td>909120.0</td>\n",
              "      <td>1.0</td>\n",
              "    </tr>\n",
              "    <tr>\n",
              "      <th>4158827</th>\n",
              "      <td>1116185</td>\n",
              "      <td>0</td>\n",
              "      <td>1116492.0</td>\n",
              "      <td>1.0</td>\n",
              "    </tr>\n",
              "    <tr>\n",
              "      <th>4158828</th>\n",
              "      <td>1116186</td>\n",
              "      <td>0</td>\n",
              "      <td>1234647.0</td>\n",
              "      <td>1.0</td>\n",
              "    </tr>\n",
              "    <tr>\n",
              "      <th>4158832</th>\n",
              "      <td>1116190</td>\n",
              "      <td>0</td>\n",
              "      <td>264666.0</td>\n",
              "      <td>1.0</td>\n",
              "    </tr>\n",
              "    <tr>\n",
              "      <th>4158833</th>\n",
              "      <td>1116190</td>\n",
              "      <td>0</td>\n",
              "      <td>570891.0</td>\n",
              "      <td>1.0</td>\n",
              "    </tr>\n",
              "    <tr>\n",
              "      <th>4158836</th>\n",
              "      <td>1116197</td>\n",
              "      <td>0</td>\n",
              "      <td>933810.0</td>\n",
              "      <td>1.0</td>\n",
              "    </tr>\n",
              "    <tr>\n",
              "      <th>4158838</th>\n",
              "      <td>1116215</td>\n",
              "      <td>0</td>\n",
              "      <td>594571.0</td>\n",
              "      <td>1.0</td>\n",
              "    </tr>\n",
              "    <tr>\n",
              "      <th>4158839</th>\n",
              "      <td>1116215</td>\n",
              "      <td>0</td>\n",
              "      <td>1213119.0</td>\n",
              "      <td>1.0</td>\n",
              "    </tr>\n",
              "    <tr>\n",
              "      <th>4158841</th>\n",
              "      <td>1116228</td>\n",
              "      <td>0</td>\n",
              "      <td>116954.0</td>\n",
              "      <td>1.0</td>\n",
              "    </tr>\n",
              "    <tr>\n",
              "      <th>4158843</th>\n",
              "      <td>1116253</td>\n",
              "      <td>0</td>\n",
              "      <td>497614.0</td>\n",
              "      <td>1.0</td>\n",
              "    </tr>\n",
              "    <tr>\n",
              "      <th>4158845</th>\n",
              "      <td>1116304</td>\n",
              "      <td>0</td>\n",
              "      <td>760439.0</td>\n",
              "      <td>1.0</td>\n",
              "    </tr>\n",
              "  </tbody>\n",
              "</table>\n",
              "<p>3413680 rows × 4 columns</p>\n",
              "</div>"
            ],
            "text/plain": [
              "           JobID  binary_label_x        Ids  binary_label_y\n",
              "2              7               0  1082218.0             1.0\n",
              "6             11               0     4639.0             1.0\n",
              "7             11               0    26275.0             1.0\n",
              "8             11               0    36199.0             1.0\n",
              "9             11               0    98819.0             1.0\n",
              "10            11               0   101953.0             1.0\n",
              "11            11               0   104975.0             1.0\n",
              "12            11               0   106229.0             1.0\n",
              "13            11               0   110599.0             1.0\n",
              "14            11               0   173987.0             1.0\n",
              "15            11               0   181416.0             1.0\n",
              "16            11               0   192095.0             1.0\n",
              "17            11               0   205370.0             1.0\n",
              "18            11               0   218817.0             1.0\n",
              "19            11               0   236844.0             1.0\n",
              "20            11               0   284047.0             1.0\n",
              "21            11               0   301430.0             1.0\n",
              "22            11               0   327267.0             1.0\n",
              "23            11               0   346888.0             1.0\n",
              "24            11               0   418770.0             1.0\n",
              "25            11               0   442451.0             1.0\n",
              "26            11               0   476327.0             1.0\n",
              "27            11               0   481585.0             1.0\n",
              "28            11               0   494138.0             1.0\n",
              "29            11               0   595953.0             1.0\n",
              "30            11               0   596014.0             1.0\n",
              "31            11               0   605347.0             1.0\n",
              "32            11               0   702702.0             1.0\n",
              "33            11               0   728400.0             1.0\n",
              "34            11               0   736917.0             1.0\n",
              "...          ...             ...        ...             ...\n",
              "4158800  1116074               0  1238283.0             1.0\n",
              "4158801  1116074               0  1238291.0             1.0\n",
              "4158803  1116077               0    15581.0             1.0\n",
              "4158804  1116077               0   215296.0             1.0\n",
              "4158805  1116077               0   276028.0             1.0\n",
              "4158806  1116077               0   597881.0             1.0\n",
              "4158807  1116077               0   736021.0             1.0\n",
              "4158808  1116077               0   864110.0             1.0\n",
              "4158809  1116077               0   872311.0             1.0\n",
              "4158810  1116077               0   886139.0             1.0\n",
              "4158811  1116077               0   891792.0             1.0\n",
              "4158812  1116077               0   906989.0             1.0\n",
              "4158813  1116077               0   910188.0             1.0\n",
              "4158818  1116166               0  1146957.0             1.0\n",
              "4158821  1116184               0   358551.0             1.0\n",
              "4158822  1116185               0    32478.0             1.0\n",
              "4158823  1116185               0    33615.0             1.0\n",
              "4158824  1116185               0   317732.0             1.0\n",
              "4158825  1116185               0   681121.0             1.0\n",
              "4158826  1116185               0   909120.0             1.0\n",
              "4158827  1116185               0  1116492.0             1.0\n",
              "4158828  1116186               0  1234647.0             1.0\n",
              "4158832  1116190               0   264666.0             1.0\n",
              "4158833  1116190               0   570891.0             1.0\n",
              "4158836  1116197               0   933810.0             1.0\n",
              "4158838  1116215               0   594571.0             1.0\n",
              "4158839  1116215               0  1213119.0             1.0\n",
              "4158841  1116228               0   116954.0             1.0\n",
              "4158843  1116253               0   497614.0             1.0\n",
              "4158845  1116304               0   760439.0             1.0\n",
              "\n",
              "[3413680 rows x 4 columns]"
            ]
          },
          "metadata": {
            "tags": []
          },
          "execution_count": 22
        }
      ]
    },
    {
      "metadata": {
        "id": "M2uakNznj7c6",
        "colab_type": "code",
        "colab": {}
      },
      "cell_type": "code",
      "source": [
        "combined_test =  combined_test.drop('binary_label_x', axis=1)"
      ],
      "execution_count": 0,
      "outputs": []
    },
    {
      "metadata": {
        "id": "vE74_Jm4ksMo",
        "colab_type": "code",
        "colab": {
          "base_uri": "https://localhost:8080/",
          "height": 204
        },
        "outputId": "89405190-5c8f-4fcc-8b18-905a8e98d1df"
      },
      "cell_type": "code",
      "source": [
        "combined_test.head()"
      ],
      "execution_count": 24,
      "outputs": [
        {
          "output_type": "execute_result",
          "data": {
            "text/html": [
              "<div>\n",
              "<style scoped>\n",
              "    .dataframe tbody tr th:only-of-type {\n",
              "        vertical-align: middle;\n",
              "    }\n",
              "\n",
              "    .dataframe tbody tr th {\n",
              "        vertical-align: top;\n",
              "    }\n",
              "\n",
              "    .dataframe thead th {\n",
              "        text-align: right;\n",
              "    }\n",
              "</style>\n",
              "<table border=\"1\" class=\"dataframe\">\n",
              "  <thead>\n",
              "    <tr style=\"text-align: right;\">\n",
              "      <th></th>\n",
              "      <th>JobID</th>\n",
              "      <th>Ids</th>\n",
              "      <th>binary_label_y</th>\n",
              "    </tr>\n",
              "  </thead>\n",
              "  <tbody>\n",
              "    <tr>\n",
              "      <th>0</th>\n",
              "      <td>1</td>\n",
              "      <td>NaN</td>\n",
              "      <td>NaN</td>\n",
              "    </tr>\n",
              "    <tr>\n",
              "      <th>1</th>\n",
              "      <td>4</td>\n",
              "      <td>NaN</td>\n",
              "      <td>NaN</td>\n",
              "    </tr>\n",
              "    <tr>\n",
              "      <th>2</th>\n",
              "      <td>7</td>\n",
              "      <td>1082218.0</td>\n",
              "      <td>1.0</td>\n",
              "    </tr>\n",
              "    <tr>\n",
              "      <th>3</th>\n",
              "      <td>8</td>\n",
              "      <td>NaN</td>\n",
              "      <td>NaN</td>\n",
              "    </tr>\n",
              "    <tr>\n",
              "      <th>4</th>\n",
              "      <td>9</td>\n",
              "      <td>NaN</td>\n",
              "      <td>NaN</td>\n",
              "    </tr>\n",
              "  </tbody>\n",
              "</table>\n",
              "</div>"
            ],
            "text/plain": [
              "   JobID        Ids  binary_label_y\n",
              "0      1        NaN             NaN\n",
              "1      4        NaN             NaN\n",
              "2      7  1082218.0             1.0\n",
              "3      8        NaN             NaN\n",
              "4      9        NaN             NaN"
            ]
          },
          "metadata": {
            "tags": []
          },
          "execution_count": 24
        }
      ]
    },
    {
      "metadata": {
        "id": "b2ZEcaeFkt6B",
        "colab_type": "code",
        "colab": {}
      },
      "cell_type": "code",
      "source": [
        "combined_test['binary_label_y'].fillna(0,inplace=True)"
      ],
      "execution_count": 0,
      "outputs": []
    },
    {
      "metadata": {
        "id": "JIe3s2TDk8Qs",
        "colab_type": "code",
        "colab": {
          "base_uri": "https://localhost:8080/",
          "height": 153
        },
        "outputId": "3a19601f-9940-4eba-89a8-8c3061e86c51"
      },
      "cell_type": "code",
      "source": [
        "combined_test[combined_test['Ids'].isna()].info()"
      ],
      "execution_count": 43,
      "outputs": [
        {
          "output_type": "stream",
          "text": [
            "<class 'pandas.core.frame.DataFrame'>\n",
            "Int64Index: 745167 entries, 0 to 4158846\n",
            "Data columns (total 3 columns):\n",
            "JobID             745167 non-null int64\n",
            "Ids               0 non-null float64\n",
            "binary_label_y    745167 non-null float64\n",
            "dtypes: float64(2), int64(1)\n",
            "memory usage: 22.7 MB\n"
          ],
          "name": "stdout"
        }
      ]
    },
    {
      "metadata": {
        "id": "iopGXSS_k_5N",
        "colab_type": "code",
        "colab": {
          "base_uri": "https://localhost:8080/",
          "height": 153
        },
        "outputId": "ceff4591-5296-436b-9848-643470da19bc"
      },
      "cell_type": "code",
      "source": [
        "combined_test[combined_test['Ids'].notnull()].info()"
      ],
      "execution_count": 44,
      "outputs": [
        {
          "output_type": "stream",
          "text": [
            "<class 'pandas.core.frame.DataFrame'>\n",
            "Int64Index: 3413680 entries, 2 to 4158845\n",
            "Data columns (total 3 columns):\n",
            "JobID             int64\n",
            "Ids               float64\n",
            "binary_label_y    float64\n",
            "dtypes: float64(2), int64(1)\n",
            "memory usage: 104.2 MB\n"
          ],
          "name": "stdout"
        }
      ]
    },
    {
      "metadata": {
        "id": "XS0B1sUrlZsF",
        "colab_type": "code",
        "colab": {}
      },
      "cell_type": "code",
      "source": [
        "# select random ID to fill in the null Ids\n",
        "import random\n",
        "np.random.seed(42)\n",
        "id_list = df_applied.Ids.values.tolist()\n",
        "combined_test['Ids'] =  combined_test['Ids'].fillna(pd.Series(np.random.choice(id_list,len(combined_test.index))))"
      ],
      "execution_count": 0,
      "outputs": []
    },
    {
      "metadata": {
        "id": "w8NUJ8nRmkpC",
        "colab_type": "code",
        "colab": {
          "base_uri": "https://localhost:8080/",
          "height": 669
        },
        "outputId": "6571ede8-ed87-4e41-a2f2-ae8d55a3b076"
      },
      "cell_type": "code",
      "source": [
        "combined_test.tail(20)"
      ],
      "execution_count": 50,
      "outputs": [
        {
          "output_type": "execute_result",
          "data": {
            "text/html": [
              "<div>\n",
              "<style scoped>\n",
              "    .dataframe tbody tr th:only-of-type {\n",
              "        vertical-align: middle;\n",
              "    }\n",
              "\n",
              "    .dataframe tbody tr th {\n",
              "        vertical-align: top;\n",
              "    }\n",
              "\n",
              "    .dataframe thead th {\n",
              "        text-align: right;\n",
              "    }\n",
              "</style>\n",
              "<table border=\"1\" class=\"dataframe\">\n",
              "  <thead>\n",
              "    <tr style=\"text-align: right;\">\n",
              "      <th></th>\n",
              "      <th>JobID</th>\n",
              "      <th>Ids</th>\n",
              "      <th>binary_label_y</th>\n",
              "    </tr>\n",
              "  </thead>\n",
              "  <tbody>\n",
              "    <tr>\n",
              "      <th>4158827</th>\n",
              "      <td>1116185</td>\n",
              "      <td>1116492.0</td>\n",
              "      <td>1.0</td>\n",
              "    </tr>\n",
              "    <tr>\n",
              "      <th>4158828</th>\n",
              "      <td>1116186</td>\n",
              "      <td>1234647.0</td>\n",
              "      <td>1.0</td>\n",
              "    </tr>\n",
              "    <tr>\n",
              "      <th>4158829</th>\n",
              "      <td>1116187</td>\n",
              "      <td>515227.0</td>\n",
              "      <td>0.0</td>\n",
              "    </tr>\n",
              "    <tr>\n",
              "      <th>4158830</th>\n",
              "      <td>1116188</td>\n",
              "      <td>352283.0</td>\n",
              "      <td>0.0</td>\n",
              "    </tr>\n",
              "    <tr>\n",
              "      <th>4158831</th>\n",
              "      <td>1116189</td>\n",
              "      <td>781105.0</td>\n",
              "      <td>0.0</td>\n",
              "    </tr>\n",
              "    <tr>\n",
              "      <th>4158832</th>\n",
              "      <td>1116190</td>\n",
              "      <td>264666.0</td>\n",
              "      <td>1.0</td>\n",
              "    </tr>\n",
              "    <tr>\n",
              "      <th>4158833</th>\n",
              "      <td>1116190</td>\n",
              "      <td>570891.0</td>\n",
              "      <td>1.0</td>\n",
              "    </tr>\n",
              "    <tr>\n",
              "      <th>4158834</th>\n",
              "      <td>1116191</td>\n",
              "      <td>1269024.0</td>\n",
              "      <td>0.0</td>\n",
              "    </tr>\n",
              "    <tr>\n",
              "      <th>4158835</th>\n",
              "      <td>1116196</td>\n",
              "      <td>1042805.0</td>\n",
              "      <td>0.0</td>\n",
              "    </tr>\n",
              "    <tr>\n",
              "      <th>4158836</th>\n",
              "      <td>1116197</td>\n",
              "      <td>933810.0</td>\n",
              "      <td>1.0</td>\n",
              "    </tr>\n",
              "    <tr>\n",
              "      <th>4158837</th>\n",
              "      <td>1116199</td>\n",
              "      <td>1264678.0</td>\n",
              "      <td>0.0</td>\n",
              "    </tr>\n",
              "    <tr>\n",
              "      <th>4158838</th>\n",
              "      <td>1116215</td>\n",
              "      <td>594571.0</td>\n",
              "      <td>1.0</td>\n",
              "    </tr>\n",
              "    <tr>\n",
              "      <th>4158839</th>\n",
              "      <td>1116215</td>\n",
              "      <td>1213119.0</td>\n",
              "      <td>1.0</td>\n",
              "    </tr>\n",
              "    <tr>\n",
              "      <th>4158840</th>\n",
              "      <td>1116222</td>\n",
              "      <td>666986.0</td>\n",
              "      <td>0.0</td>\n",
              "    </tr>\n",
              "    <tr>\n",
              "      <th>4158841</th>\n",
              "      <td>1116228</td>\n",
              "      <td>116954.0</td>\n",
              "      <td>1.0</td>\n",
              "    </tr>\n",
              "    <tr>\n",
              "      <th>4158842</th>\n",
              "      <td>1116242</td>\n",
              "      <td>110023.0</td>\n",
              "      <td>0.0</td>\n",
              "    </tr>\n",
              "    <tr>\n",
              "      <th>4158843</th>\n",
              "      <td>1116253</td>\n",
              "      <td>497614.0</td>\n",
              "      <td>1.0</td>\n",
              "    </tr>\n",
              "    <tr>\n",
              "      <th>4158844</th>\n",
              "      <td>1116294</td>\n",
              "      <td>865474.0</td>\n",
              "      <td>0.0</td>\n",
              "    </tr>\n",
              "    <tr>\n",
              "      <th>4158845</th>\n",
              "      <td>1116304</td>\n",
              "      <td>760439.0</td>\n",
              "      <td>1.0</td>\n",
              "    </tr>\n",
              "    <tr>\n",
              "      <th>4158846</th>\n",
              "      <td>1116307</td>\n",
              "      <td>482704.0</td>\n",
              "      <td>0.0</td>\n",
              "    </tr>\n",
              "  </tbody>\n",
              "</table>\n",
              "</div>"
            ],
            "text/plain": [
              "           JobID        Ids  binary_label_y\n",
              "4158827  1116185  1116492.0             1.0\n",
              "4158828  1116186  1234647.0             1.0\n",
              "4158829  1116187   515227.0             0.0\n",
              "4158830  1116188   352283.0             0.0\n",
              "4158831  1116189   781105.0             0.0\n",
              "4158832  1116190   264666.0             1.0\n",
              "4158833  1116190   570891.0             1.0\n",
              "4158834  1116191  1269024.0             0.0\n",
              "4158835  1116196  1042805.0             0.0\n",
              "4158836  1116197   933810.0             1.0\n",
              "4158837  1116199  1264678.0             0.0\n",
              "4158838  1116215   594571.0             1.0\n",
              "4158839  1116215  1213119.0             1.0\n",
              "4158840  1116222   666986.0             0.0\n",
              "4158841  1116228   116954.0             1.0\n",
              "4158842  1116242   110023.0             0.0\n",
              "4158843  1116253   497614.0             1.0\n",
              "4158844  1116294   865474.0             0.0\n",
              "4158845  1116304   760439.0             1.0\n",
              "4158846  1116307   482704.0             0.0"
            ]
          },
          "metadata": {
            "tags": []
          },
          "execution_count": 50
        }
      ]
    },
    {
      "metadata": {
        "id": "YPxJkkMYo0CM",
        "colab_type": "code",
        "colab": {
          "base_uri": "https://localhost:8080/",
          "height": 1969
        },
        "outputId": "61dd2254-45fc-4129-b630-6988d4bddddd"
      },
      "cell_type": "code",
      "source": [
        "combined_test[['Ids','JobID','binary_label_y']]"
      ],
      "execution_count": 25,
      "outputs": [
        {
          "output_type": "execute_result",
          "data": {
            "text/html": [
              "<div>\n",
              "<style scoped>\n",
              "    .dataframe tbody tr th:only-of-type {\n",
              "        vertical-align: middle;\n",
              "    }\n",
              "\n",
              "    .dataframe tbody tr th {\n",
              "        vertical-align: top;\n",
              "    }\n",
              "\n",
              "    .dataframe thead th {\n",
              "        text-align: right;\n",
              "    }\n",
              "</style>\n",
              "<table border=\"1\" class=\"dataframe\">\n",
              "  <thead>\n",
              "    <tr style=\"text-align: right;\">\n",
              "      <th></th>\n",
              "      <th>Ids</th>\n",
              "      <th>JobID</th>\n",
              "      <th>binary_label_y</th>\n",
              "    </tr>\n",
              "  </thead>\n",
              "  <tbody>\n",
              "    <tr>\n",
              "      <th>0</th>\n",
              "      <td>903471.0</td>\n",
              "      <td>1</td>\n",
              "      <td>0.0</td>\n",
              "    </tr>\n",
              "    <tr>\n",
              "      <th>1</th>\n",
              "      <td>1122887.0</td>\n",
              "      <td>4</td>\n",
              "      <td>0.0</td>\n",
              "    </tr>\n",
              "    <tr>\n",
              "      <th>2</th>\n",
              "      <td>1082218.0</td>\n",
              "      <td>7</td>\n",
              "      <td>1.0</td>\n",
              "    </tr>\n",
              "    <tr>\n",
              "      <th>3</th>\n",
              "      <td>1291691.0</td>\n",
              "      <td>8</td>\n",
              "      <td>0.0</td>\n",
              "    </tr>\n",
              "    <tr>\n",
              "      <th>4</th>\n",
              "      <td>945420.0</td>\n",
              "      <td>9</td>\n",
              "      <td>0.0</td>\n",
              "    </tr>\n",
              "    <tr>\n",
              "      <th>5</th>\n",
              "      <td>234785.0</td>\n",
              "      <td>10</td>\n",
              "      <td>0.0</td>\n",
              "    </tr>\n",
              "    <tr>\n",
              "      <th>6</th>\n",
              "      <td>4639.0</td>\n",
              "      <td>11</td>\n",
              "      <td>1.0</td>\n",
              "    </tr>\n",
              "    <tr>\n",
              "      <th>7</th>\n",
              "      <td>26275.0</td>\n",
              "      <td>11</td>\n",
              "      <td>1.0</td>\n",
              "    </tr>\n",
              "    <tr>\n",
              "      <th>8</th>\n",
              "      <td>36199.0</td>\n",
              "      <td>11</td>\n",
              "      <td>1.0</td>\n",
              "    </tr>\n",
              "    <tr>\n",
              "      <th>9</th>\n",
              "      <td>98819.0</td>\n",
              "      <td>11</td>\n",
              "      <td>1.0</td>\n",
              "    </tr>\n",
              "    <tr>\n",
              "      <th>10</th>\n",
              "      <td>101953.0</td>\n",
              "      <td>11</td>\n",
              "      <td>1.0</td>\n",
              "    </tr>\n",
              "    <tr>\n",
              "      <th>11</th>\n",
              "      <td>104975.0</td>\n",
              "      <td>11</td>\n",
              "      <td>1.0</td>\n",
              "    </tr>\n",
              "    <tr>\n",
              "      <th>12</th>\n",
              "      <td>106229.0</td>\n",
              "      <td>11</td>\n",
              "      <td>1.0</td>\n",
              "    </tr>\n",
              "    <tr>\n",
              "      <th>13</th>\n",
              "      <td>110599.0</td>\n",
              "      <td>11</td>\n",
              "      <td>1.0</td>\n",
              "    </tr>\n",
              "    <tr>\n",
              "      <th>14</th>\n",
              "      <td>173987.0</td>\n",
              "      <td>11</td>\n",
              "      <td>1.0</td>\n",
              "    </tr>\n",
              "    <tr>\n",
              "      <th>15</th>\n",
              "      <td>181416.0</td>\n",
              "      <td>11</td>\n",
              "      <td>1.0</td>\n",
              "    </tr>\n",
              "    <tr>\n",
              "      <th>16</th>\n",
              "      <td>192095.0</td>\n",
              "      <td>11</td>\n",
              "      <td>1.0</td>\n",
              "    </tr>\n",
              "    <tr>\n",
              "      <th>17</th>\n",
              "      <td>205370.0</td>\n",
              "      <td>11</td>\n",
              "      <td>1.0</td>\n",
              "    </tr>\n",
              "    <tr>\n",
              "      <th>18</th>\n",
              "      <td>218817.0</td>\n",
              "      <td>11</td>\n",
              "      <td>1.0</td>\n",
              "    </tr>\n",
              "    <tr>\n",
              "      <th>19</th>\n",
              "      <td>236844.0</td>\n",
              "      <td>11</td>\n",
              "      <td>1.0</td>\n",
              "    </tr>\n",
              "    <tr>\n",
              "      <th>20</th>\n",
              "      <td>284047.0</td>\n",
              "      <td>11</td>\n",
              "      <td>1.0</td>\n",
              "    </tr>\n",
              "    <tr>\n",
              "      <th>21</th>\n",
              "      <td>301430.0</td>\n",
              "      <td>11</td>\n",
              "      <td>1.0</td>\n",
              "    </tr>\n",
              "    <tr>\n",
              "      <th>22</th>\n",
              "      <td>327267.0</td>\n",
              "      <td>11</td>\n",
              "      <td>1.0</td>\n",
              "    </tr>\n",
              "    <tr>\n",
              "      <th>23</th>\n",
              "      <td>346888.0</td>\n",
              "      <td>11</td>\n",
              "      <td>1.0</td>\n",
              "    </tr>\n",
              "    <tr>\n",
              "      <th>24</th>\n",
              "      <td>418770.0</td>\n",
              "      <td>11</td>\n",
              "      <td>1.0</td>\n",
              "    </tr>\n",
              "    <tr>\n",
              "      <th>25</th>\n",
              "      <td>442451.0</td>\n",
              "      <td>11</td>\n",
              "      <td>1.0</td>\n",
              "    </tr>\n",
              "    <tr>\n",
              "      <th>26</th>\n",
              "      <td>476327.0</td>\n",
              "      <td>11</td>\n",
              "      <td>1.0</td>\n",
              "    </tr>\n",
              "    <tr>\n",
              "      <th>27</th>\n",
              "      <td>481585.0</td>\n",
              "      <td>11</td>\n",
              "      <td>1.0</td>\n",
              "    </tr>\n",
              "    <tr>\n",
              "      <th>28</th>\n",
              "      <td>494138.0</td>\n",
              "      <td>11</td>\n",
              "      <td>1.0</td>\n",
              "    </tr>\n",
              "    <tr>\n",
              "      <th>29</th>\n",
              "      <td>595953.0</td>\n",
              "      <td>11</td>\n",
              "      <td>1.0</td>\n",
              "    </tr>\n",
              "    <tr>\n",
              "      <th>...</th>\n",
              "      <td>...</td>\n",
              "      <td>...</td>\n",
              "      <td>...</td>\n",
              "    </tr>\n",
              "    <tr>\n",
              "      <th>4158817</th>\n",
              "      <td>1413572.0</td>\n",
              "      <td>1116163</td>\n",
              "      <td>0.0</td>\n",
              "    </tr>\n",
              "    <tr>\n",
              "      <th>4158818</th>\n",
              "      <td>1146957.0</td>\n",
              "      <td>1116166</td>\n",
              "      <td>1.0</td>\n",
              "    </tr>\n",
              "    <tr>\n",
              "      <th>4158819</th>\n",
              "      <td>282767.0</td>\n",
              "      <td>1116182</td>\n",
              "      <td>0.0</td>\n",
              "    </tr>\n",
              "    <tr>\n",
              "      <th>4158820</th>\n",
              "      <td>555085.0</td>\n",
              "      <td>1116183</td>\n",
              "      <td>0.0</td>\n",
              "    </tr>\n",
              "    <tr>\n",
              "      <th>4158821</th>\n",
              "      <td>358551.0</td>\n",
              "      <td>1116184</td>\n",
              "      <td>1.0</td>\n",
              "    </tr>\n",
              "    <tr>\n",
              "      <th>4158822</th>\n",
              "      <td>32478.0</td>\n",
              "      <td>1116185</td>\n",
              "      <td>1.0</td>\n",
              "    </tr>\n",
              "    <tr>\n",
              "      <th>4158823</th>\n",
              "      <td>33615.0</td>\n",
              "      <td>1116185</td>\n",
              "      <td>1.0</td>\n",
              "    </tr>\n",
              "    <tr>\n",
              "      <th>4158824</th>\n",
              "      <td>317732.0</td>\n",
              "      <td>1116185</td>\n",
              "      <td>1.0</td>\n",
              "    </tr>\n",
              "    <tr>\n",
              "      <th>4158825</th>\n",
              "      <td>681121.0</td>\n",
              "      <td>1116185</td>\n",
              "      <td>1.0</td>\n",
              "    </tr>\n",
              "    <tr>\n",
              "      <th>4158826</th>\n",
              "      <td>909120.0</td>\n",
              "      <td>1116185</td>\n",
              "      <td>1.0</td>\n",
              "    </tr>\n",
              "    <tr>\n",
              "      <th>4158827</th>\n",
              "      <td>1116492.0</td>\n",
              "      <td>1116185</td>\n",
              "      <td>1.0</td>\n",
              "    </tr>\n",
              "    <tr>\n",
              "      <th>4158828</th>\n",
              "      <td>1234647.0</td>\n",
              "      <td>1116186</td>\n",
              "      <td>1.0</td>\n",
              "    </tr>\n",
              "    <tr>\n",
              "      <th>4158829</th>\n",
              "      <td>515227.0</td>\n",
              "      <td>1116187</td>\n",
              "      <td>0.0</td>\n",
              "    </tr>\n",
              "    <tr>\n",
              "      <th>4158830</th>\n",
              "      <td>352283.0</td>\n",
              "      <td>1116188</td>\n",
              "      <td>0.0</td>\n",
              "    </tr>\n",
              "    <tr>\n",
              "      <th>4158831</th>\n",
              "      <td>781105.0</td>\n",
              "      <td>1116189</td>\n",
              "      <td>0.0</td>\n",
              "    </tr>\n",
              "    <tr>\n",
              "      <th>4158832</th>\n",
              "      <td>264666.0</td>\n",
              "      <td>1116190</td>\n",
              "      <td>1.0</td>\n",
              "    </tr>\n",
              "    <tr>\n",
              "      <th>4158833</th>\n",
              "      <td>570891.0</td>\n",
              "      <td>1116190</td>\n",
              "      <td>1.0</td>\n",
              "    </tr>\n",
              "    <tr>\n",
              "      <th>4158834</th>\n",
              "      <td>1269024.0</td>\n",
              "      <td>1116191</td>\n",
              "      <td>0.0</td>\n",
              "    </tr>\n",
              "    <tr>\n",
              "      <th>4158835</th>\n",
              "      <td>1042805.0</td>\n",
              "      <td>1116196</td>\n",
              "      <td>0.0</td>\n",
              "    </tr>\n",
              "    <tr>\n",
              "      <th>4158836</th>\n",
              "      <td>933810.0</td>\n",
              "      <td>1116197</td>\n",
              "      <td>1.0</td>\n",
              "    </tr>\n",
              "    <tr>\n",
              "      <th>4158837</th>\n",
              "      <td>1264678.0</td>\n",
              "      <td>1116199</td>\n",
              "      <td>0.0</td>\n",
              "    </tr>\n",
              "    <tr>\n",
              "      <th>4158838</th>\n",
              "      <td>594571.0</td>\n",
              "      <td>1116215</td>\n",
              "      <td>1.0</td>\n",
              "    </tr>\n",
              "    <tr>\n",
              "      <th>4158839</th>\n",
              "      <td>1213119.0</td>\n",
              "      <td>1116215</td>\n",
              "      <td>1.0</td>\n",
              "    </tr>\n",
              "    <tr>\n",
              "      <th>4158840</th>\n",
              "      <td>666986.0</td>\n",
              "      <td>1116222</td>\n",
              "      <td>0.0</td>\n",
              "    </tr>\n",
              "    <tr>\n",
              "      <th>4158841</th>\n",
              "      <td>116954.0</td>\n",
              "      <td>1116228</td>\n",
              "      <td>1.0</td>\n",
              "    </tr>\n",
              "    <tr>\n",
              "      <th>4158842</th>\n",
              "      <td>110023.0</td>\n",
              "      <td>1116242</td>\n",
              "      <td>0.0</td>\n",
              "    </tr>\n",
              "    <tr>\n",
              "      <th>4158843</th>\n",
              "      <td>497614.0</td>\n",
              "      <td>1116253</td>\n",
              "      <td>1.0</td>\n",
              "    </tr>\n",
              "    <tr>\n",
              "      <th>4158844</th>\n",
              "      <td>865474.0</td>\n",
              "      <td>1116294</td>\n",
              "      <td>0.0</td>\n",
              "    </tr>\n",
              "    <tr>\n",
              "      <th>4158845</th>\n",
              "      <td>760439.0</td>\n",
              "      <td>1116304</td>\n",
              "      <td>1.0</td>\n",
              "    </tr>\n",
              "    <tr>\n",
              "      <th>4158846</th>\n",
              "      <td>482704.0</td>\n",
              "      <td>1116307</td>\n",
              "      <td>0.0</td>\n",
              "    </tr>\n",
              "  </tbody>\n",
              "</table>\n",
              "<p>4158847 rows × 3 columns</p>\n",
              "</div>"
            ],
            "text/plain": [
              "               Ids    JobID  binary_label_y\n",
              "0         903471.0        1             0.0\n",
              "1        1122887.0        4             0.0\n",
              "2        1082218.0        7             1.0\n",
              "3        1291691.0        8             0.0\n",
              "4         945420.0        9             0.0\n",
              "5         234785.0       10             0.0\n",
              "6           4639.0       11             1.0\n",
              "7          26275.0       11             1.0\n",
              "8          36199.0       11             1.0\n",
              "9          98819.0       11             1.0\n",
              "10        101953.0       11             1.0\n",
              "11        104975.0       11             1.0\n",
              "12        106229.0       11             1.0\n",
              "13        110599.0       11             1.0\n",
              "14        173987.0       11             1.0\n",
              "15        181416.0       11             1.0\n",
              "16        192095.0       11             1.0\n",
              "17        205370.0       11             1.0\n",
              "18        218817.0       11             1.0\n",
              "19        236844.0       11             1.0\n",
              "20        284047.0       11             1.0\n",
              "21        301430.0       11             1.0\n",
              "22        327267.0       11             1.0\n",
              "23        346888.0       11             1.0\n",
              "24        418770.0       11             1.0\n",
              "25        442451.0       11             1.0\n",
              "26        476327.0       11             1.0\n",
              "27        481585.0       11             1.0\n",
              "28        494138.0       11             1.0\n",
              "29        595953.0       11             1.0\n",
              "...            ...      ...             ...\n",
              "4158817  1413572.0  1116163             0.0\n",
              "4158818  1146957.0  1116166             1.0\n",
              "4158819   282767.0  1116182             0.0\n",
              "4158820   555085.0  1116183             0.0\n",
              "4158821   358551.0  1116184             1.0\n",
              "4158822    32478.0  1116185             1.0\n",
              "4158823    33615.0  1116185             1.0\n",
              "4158824   317732.0  1116185             1.0\n",
              "4158825   681121.0  1116185             1.0\n",
              "4158826   909120.0  1116185             1.0\n",
              "4158827  1116492.0  1116185             1.0\n",
              "4158828  1234647.0  1116186             1.0\n",
              "4158829   515227.0  1116187             0.0\n",
              "4158830   352283.0  1116188             0.0\n",
              "4158831   781105.0  1116189             0.0\n",
              "4158832   264666.0  1116190             1.0\n",
              "4158833   570891.0  1116190             1.0\n",
              "4158834  1269024.0  1116191             0.0\n",
              "4158835  1042805.0  1116196             0.0\n",
              "4158836   933810.0  1116197             1.0\n",
              "4158837  1264678.0  1116199             0.0\n",
              "4158838   594571.0  1116215             1.0\n",
              "4158839  1213119.0  1116215             1.0\n",
              "4158840   666986.0  1116222             0.0\n",
              "4158841   116954.0  1116228             1.0\n",
              "4158842   110023.0  1116242             0.0\n",
              "4158843   497614.0  1116253             1.0\n",
              "4158844   865474.0  1116294             0.0\n",
              "4158845   760439.0  1116304             1.0\n",
              "4158846   482704.0  1116307             0.0\n",
              "\n",
              "[4158847 rows x 3 columns]"
            ]
          },
          "metadata": {
            "tags": []
          },
          "execution_count": 25
        }
      ]
    },
    {
      "metadata": {
        "id": "XZ9tZVmIAMx8",
        "colab_type": "code",
        "colab": {}
      },
      "cell_type": "code",
      "source": [
        "combined_test['Ids'] = combined_test['Ids'].astype(int)\n",
        "combined_test['binary_label_y'] = combined_test['binary_label_y'].astype(int)\n",
        "combined_test['JobID'] = combined_test['JobID'].astype(int)\n"
      ],
      "execution_count": 0,
      "outputs": []
    },
    {
      "metadata": {
        "id": "OazHOPfLppSN",
        "colab_type": "text"
      },
      "cell_type": "markdown",
      "source": [
        "# Binary Recommendation with PySpark"
      ]
    },
    {
      "metadata": {
        "id": "MGh-6RYXpVNy",
        "colab_type": "code",
        "colab": {}
      },
      "cell_type": "code",
      "source": [
        "from pyspark.sql import SQLContext\n",
        "from pyspark.sql.types import *\n",
        "from pyspark.sql.functions import col"
      ],
      "execution_count": 0,
      "outputs": []
    },
    {
      "metadata": {
        "id": "G_lxG7Vq_I8E",
        "colab_type": "text"
      },
      "cell_type": "markdown",
      "source": [
        "*Create Schema*"
      ]
    },
    {
      "metadata": {
        "id": "L_Xi9N45_HqX",
        "colab_type": "code",
        "colab": {}
      },
      "cell_type": "code",
      "source": [
        "mySchema = StructType([StructField(\"Ids\", IntegerType(), True)\\\n",
        "                      ,StructField(\"JobID\", IntegerType(), True)\\\n",
        "                      ,StructField(\"binary_label_y\", IntegerType(), True)])"
      ],
      "execution_count": 0,
      "outputs": []
    },
    {
      "metadata": {
        "id": "BFyDJ7Q4A-Zq",
        "colab_type": "text"
      },
      "cell_type": "markdown",
      "source": [
        "*Create Spark dataframe*"
      ]
    },
    {
      "metadata": {
        "id": "ABDMhHZo_0Tw",
        "colab_type": "code",
        "colab": {}
      },
      "cell_type": "code",
      "source": [
        "df_spark = spark.createDataFrame(combined_test,schema=mySchema)"
      ],
      "execution_count": 0,
      "outputs": []
    },
    {
      "metadata": {
        "id": "vRml6rIjBCz7",
        "colab_type": "text"
      },
      "cell_type": "markdown",
      "source": [
        "Test Dataframe"
      ]
    },
    {
      "metadata": {
        "id": "lJUlVTg3_91x",
        "colab_type": "code",
        "colab": {
          "base_uri": "https://localhost:8080/",
          "height": 459
        },
        "outputId": "d3fdf8d4-6537-4dd8-9157-96f705bfc3c4"
      },
      "cell_type": "code",
      "source": [
        "df_spark.show()"
      ],
      "execution_count": 54,
      "outputs": [
        {
          "output_type": "stream",
          "text": [
            "+---+-------+--------------+\n",
            "|Ids|  JobID|binary_label_y|\n",
            "+---+-------+--------------+\n",
            "|  1| 903471|             0|\n",
            "|  4|1122887|             0|\n",
            "|  7|1082218|             1|\n",
            "|  8|1291691|             0|\n",
            "|  9| 945420|             0|\n",
            "| 10| 234785|             0|\n",
            "| 11|   4639|             1|\n",
            "| 11|  26275|             1|\n",
            "| 11|  36199|             1|\n",
            "| 11|  98819|             1|\n",
            "| 11| 101953|             1|\n",
            "| 11| 104975|             1|\n",
            "| 11| 106229|             1|\n",
            "| 11| 110599|             1|\n",
            "| 11| 173987|             1|\n",
            "| 11| 181416|             1|\n",
            "| 11| 192095|             1|\n",
            "| 11| 205370|             1|\n",
            "| 11| 218817|             1|\n",
            "| 11| 236844|             1|\n",
            "+---+-------+--------------+\n",
            "only showing top 20 rows\n",
            "\n"
          ],
          "name": "stdout"
        }
      ]
    },
    {
      "metadata": {
        "id": "w7x-l-EHBRrn",
        "colab_type": "text"
      },
      "cell_type": "markdown",
      "source": [
        "Calculate Sparity"
      ]
    },
    {
      "metadata": {
        "id": "bGkpgUUqBH_4",
        "colab_type": "code",
        "colab": {
          "base_uri": "https://localhost:8080/",
          "height": 34
        },
        "outputId": "597fdd8c-6994-4189-e2b0-8b87f6a2d330"
      },
      "cell_type": "code",
      "source": [
        "# Count total number of binary_label in the dataset\n",
        "numerator = df_spark.select(\"binary_label_y\").count()\n",
        "# Count the number of distinct Ids and distinct JobID\n",
        "num_users = df_spark.select(\"Ids\").distinct().count()\n",
        "num_jobs = df_spark.select(\"JobID\").distinct().count()\n",
        "# Set the denominator equal to the number of users multiplied by the number of jobs\n",
        "denominator = num_users * num_jobs\n",
        "# Divide the numerator by the denominator\n",
        "sparsity = (1.0 - (numerator *1.0)/denominator)*100\n",
        "print (\"The ratings dataframe is \", \"%.2f\" % sparsity + \"% empty.\")"
      ],
      "execution_count": 30,
      "outputs": [
        {
          "output_type": "stream",
          "text": [
            "The ratings dataframe is  99.98% empty.\n"
          ],
          "name": "stdout"
        }
      ]
    },
    {
      "metadata": {
        "id": "KB3KddKgEb29",
        "colab_type": "text"
      },
      "cell_type": "markdown",
      "source": [
        "Create test/train splits and create ALS Model"
      ]
    },
    {
      "metadata": {
        "id": "VeqdPkjLCOqq",
        "colab_type": "code",
        "colab": {}
      },
      "cell_type": "code",
      "source": [
        "from pyspark.ml.evaluation import RegressionEvaluator\n",
        "from pyspark.ml.recommendation import ALS\n",
        "from pyspark.ml.tuning import ParamGridBuilder, CrossValidator"
      ],
      "execution_count": 0,
      "outputs": []
    },
    {
      "metadata": {
        "id": "OVMc7JaWDQDC",
        "colab_type": "code",
        "colab": {}
      },
      "cell_type": "code",
      "source": [
        "# Create test and train set\n",
        "(train, test) = df_spark.randomSplit([0.8, 0.2], seed = 1234)"
      ],
      "execution_count": 0,
      "outputs": []
    },
    {
      "metadata": {
        "id": "YB5fCI5MQmaj",
        "colab_type": "code",
        "colab": {}
      },
      "cell_type": "code",
      "source": [
        "# Empty list to be filled with model\n",
        "model_list = []\n",
        "# Complete parameters\n",
        "ranks = [10,20,30,40]\n",
        "maxIters = [10,20,30,40]\n",
        "regParams = [.05,.1,.15]\n",
        "alphas = [20,40,60,80]"
      ],
      "execution_count": 0,
      "outputs": []
    },
    {
      "metadata": {
        "id": "Hp9Ryhha38pq",
        "colab_type": "code",
        "colab": {}
      },
      "cell_type": "code",
      "source": [
        "# # For loop will automatically create and store ALS models\n",
        "# for r in ranks:\n",
        "#     for mi in maxIters:\n",
        "#         for rp in regParams:\n",
        "#             for a in alphas:\n",
        "#                 model_list.append(ALS(userCol= \"userId\", itemCol= \"songId\", ratingCol= \"num_plays\", rank = r, maxIter = mi, regParam = rp, alpha = a, coldStartStrategy=\"drop\", nonnegative = True, implicitPrefs = True))\n",
        "\n",
        "# # Print the model list, and the length of model_list\n",
        "# print (model_list, \"Length of model_list: \", len(model_list))\n",
        "\n",
        "# # Validate\n",
        "# len(model_list) == (len(ranks)*len(maxIters)*len(regParams)*len(alphas))"
      ],
      "execution_count": 0,
      "outputs": []
    },
    {
      "metadata": {
        "id": "DYDPhrWt4j6E",
        "colab_type": "code",
        "colab": {}
      },
      "cell_type": "code",
      "source": [
        "# Create ALS model\n",
        "als = ALS(userCol=\"Ids\", itemCol=\"JobID\", ratingCol=\"binary_label_y\",rank = 10, maxIter = 10, regParam = .05, alpha = 20, coldStartStrategy=\"drop\", nonnegative = True, implicitPrefs = False)"
      ],
      "execution_count": 0,
      "outputs": []
    },
    {
      "metadata": {
        "id": "PDRdkBsb7Ucb",
        "colab_type": "code",
        "colab": {
          "base_uri": "https://localhost:8080/",
          "height": 34
        },
        "outputId": "5032bddc-4842-46fe-80d7-c79f5502593f"
      },
      "cell_type": "code",
      "source": [
        "# Confirm that a model called \"als\" was created\n",
        "type(als)"
      ],
      "execution_count": 37,
      "outputs": [
        {
          "output_type": "execute_result",
          "data": {
            "text/plain": [
              "pyspark.ml.recommendation.ALS"
            ]
          },
          "metadata": {
            "tags": []
          },
          "execution_count": 37
        }
      ]
    },
    {
      "metadata": {
        "id": "PJ7l5m9V7WfJ",
        "colab_type": "code",
        "colab": {}
      },
      "cell_type": "code",
      "source": [
        "# ROEM: rank ordering error metric\n",
        "def ROEM(predictions, userCol = \"Ids\", itemCol = \"JobID\", ratingCol = \"binary_label_y\"):\n",
        "  #Creates table that can be queried\n",
        "  predictions.createOrReplaceTempView(\"predictions\")\n",
        "\n",
        "  #Sum of total number of plays of all songs\n",
        "  denominator = predictions.groupBy().sum(ratingCol).collect()[0][0]\n",
        "\n",
        "  #Calculating rankings of songs predictions by user\n",
        "  spark.sql(\"SELECT \" + userCol + \" , \" + ratingCol + \" , PERCENT_RANK() OVER (PARTITION BY \" + userCol + \" ORDER BY prediction DESC) AS rank FROM predictions\").createOrReplaceTempView(\"rankings\")\n",
        "\n",
        "  #Multiplies the rank of each song by the number of plays and adds the products together\n",
        "  numerator = spark.sql('SELECT SUM(' + ratingCol + ' * rank) FROM rankings').collect()[0][0]\n",
        "\n",
        "  performance = numerator/denominator\n",
        "\n",
        "  return performance\n"
      ],
      "execution_count": 0,
      "outputs": []
    },
    {
      "metadata": {
        "id": "ZOtIpM2L80Fi",
        "colab_type": "code",
        "colab": {}
      },
      "cell_type": "code",
      "source": [
        "# fitting model\n",
        "model = als.fit(train)\n",
        "# Generating prediction\n",
        "predictions = model.transform(test)"
      ],
      "execution_count": 0,
      "outputs": []
    },
    {
      "metadata": {
        "id": "-NXyM7wy9Z7U",
        "colab_type": "code",
        "colab": {}
      },
      "cell_type": "code",
      "source": [
        "#Calculating expected percentile rank error metric for the model on each fold's prediction set\n",
        "performance = ROEM(predictions)"
      ],
      "execution_count": 0,
      "outputs": []
    },
    {
      "metadata": {
        "id": "_ItLkK_c9M4t",
        "colab_type": "code",
        "colab": {
          "base_uri": "https://localhost:8080/",
          "height": 51
        },
        "outputId": "a0bf3fdc-adb2-4ef1-c461-64f8f988d5f6"
      },
      "cell_type": "code",
      "source": [
        "print(\"Test Percent Rank Errors: \")\n",
        "print(performance)"
      ],
      "execution_count": 42,
      "outputs": [
        {
          "output_type": "stream",
          "text": [
            "Test Percent Rank Errors: \n",
            "0.4511608309275242\n"
          ],
          "name": "stdout"
        }
      ]
    },
    {
      "metadata": {
        "id": "OwwTUuUs9hQ8",
        "colab_type": "code",
        "colab": {}
      },
      "cell_type": "code",
      "source": [
        "df_pred = predictions.toPandas()"
      ],
      "execution_count": 0,
      "outputs": []
    },
    {
      "metadata": {
        "id": "ow88oEc7-V6j",
        "colab_type": "code",
        "colab": {
          "base_uri": "https://localhost:8080/",
          "height": 51
        },
        "outputId": "76268466-ddce-4c8e-cdba-099ba03b18e7"
      },
      "cell_type": "code",
      "source": [
        "df_pred['binary_label_y'].value_counts()"
      ],
      "execution_count": 57,
      "outputs": [
        {
          "output_type": "execute_result",
          "data": {
            "text/plain": [
              "1    651734\n",
              "Name: binary_label_y, dtype: int64"
            ]
          },
          "metadata": {
            "tags": []
          },
          "execution_count": 57
        }
      ]
    },
    {
      "metadata": {
        "id": "LGzmIoSs-Xsb",
        "colab_type": "code",
        "colab": {}
      },
      "cell_type": "code",
      "source": [
        ""
      ],
      "execution_count": 0,
      "outputs": []
    }
  ]
}